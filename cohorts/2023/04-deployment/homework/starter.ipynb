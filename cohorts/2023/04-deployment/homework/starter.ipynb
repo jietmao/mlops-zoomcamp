{
 "cells": [
  {
   "cell_type": "code",
   "execution_count": 2,
   "id": "0ef880a0",
   "metadata": {
    "ExecuteTime": {
     "end_time": "2024-04-08T06:57:53.702578800Z",
     "start_time": "2024-04-08T06:57:53.686942500Z"
    }
   },
   "outputs": [],
   "source": [
    "import pickle\n",
    "import pandas as pd\n",
    "from pathlib import Path"
   ]
  },
  {
   "cell_type": "code",
   "execution_count": null,
   "outputs": [],
   "source": [
    "year = 2022\n",
    "month = 2"
   ],
   "metadata": {
    "collapsed": false
   },
   "id": "ac97114c05e7e2da"
  },
  {
   "cell_type": "code",
   "execution_count": 4,
   "id": "7836ccfd",
   "metadata": {
    "ExecuteTime": {
     "end_time": "2024-04-08T06:58:43.046544400Z",
     "start_time": "2024-04-08T06:58:42.818515100Z"
    }
   },
   "outputs": [],
   "source": [
    "\n",
    "with open('model.bin', 'rb') as f_in:\n",
    "    dv, model = pickle.load(f_in)"
   ]
  },
  {
   "cell_type": "code",
   "execution_count": 5,
   "id": "41c08294",
   "metadata": {
    "ExecuteTime": {
     "end_time": "2024-04-08T06:58:48.334818400Z",
     "start_time": "2024-04-08T06:58:48.322846300Z"
    }
   },
   "outputs": [],
   "source": [
    "categorical = ['PULocationID', 'DOLocationID']\n",
    "\n",
    "def read_data(filename):\n",
    "    df = pd.read_parquet(filename)\n",
    "    \n",
    "    df['duration'] = df.tpep_dropoff_datetime - df.tpep_pickup_datetime\n",
    "    df['duration'] = df.duration.dt.total_seconds() / 60\n",
    "\n",
    "    df = df[(df.duration >= 1) & (df.duration <= 60)].copy()\n",
    "\n",
    "    df[categorical] = df[categorical].fillna(-1).astype('int').astype('str')\n",
    "    \n",
    "    return df"
   ]
  },
  {
   "cell_type": "code",
   "execution_count": 6,
   "id": "4854399a",
   "metadata": {
    "ExecuteTime": {
     "end_time": "2024-04-08T06:58:51.919629300Z",
     "start_time": "2024-04-08T06:58:49.861765800Z"
    }
   },
   "outputs": [],
   "source": [
    "df = read_data(r'C:\\Users\\Jiet_Mao_Lim\\IdeaProjects\\epam_learn\\mlops-zoomcamp\\homeworks\\data\\yellow_tripdata_2022-02.parquet')"
   ]
  },
  {
   "cell_type": "code",
   "execution_count": 7,
   "id": "669fda0a",
   "metadata": {
    "ExecuteTime": {
     "end_time": "2024-04-08T06:59:04.549238700Z",
     "start_time": "2024-04-08T06:58:55.017417400Z"
    }
   },
   "outputs": [],
   "source": [
    "dicts = df[categorical].to_dict(orient='records')\n",
    "X_val = dv.transform(dicts)\n",
    "y_pred = model.predict(X_val)"
   ]
  },
  {
   "cell_type": "code",
   "execution_count": 9,
   "outputs": [
    {
     "data": {
      "text/plain": "5.28142955399685"
     },
     "execution_count": 9,
     "metadata": {},
     "output_type": "execute_result"
    }
   ],
   "source": [
    "y_pred.std()"
   ],
   "metadata": {
    "collapsed": false,
    "ExecuteTime": {
     "end_time": "2024-04-08T06:59:14.216069200Z",
     "start_time": "2024-04-08T06:59:14.156515800Z"
    }
   },
   "id": "d910927712073ac1"
  },
  {
   "cell_type": "code",
   "execution_count": 22,
   "outputs": [
    {
     "data": {
      "text/plain": "12.513424582912245"
     },
     "execution_count": 22,
     "metadata": {},
     "output_type": "execute_result"
    }
   ],
   "source": [
    "y_pred.mean()"
   ],
   "metadata": {
    "collapsed": false,
    "ExecuteTime": {
     "end_time": "2024-04-08T09:44:02.317474700Z",
     "start_time": "2024-04-08T09:44:02.272285400Z"
    }
   },
   "id": "17ab3e1b4ba387b1"
  },
  {
   "cell_type": "code",
   "execution_count": 11,
   "outputs": [],
   "source": [
    "\n",
    "df['ride_id'] = f'{year:04d}/{month:02d}_' + df.index.astype('str')"
   ],
   "metadata": {
    "collapsed": false,
    "ExecuteTime": {
     "end_time": "2024-04-08T07:13:47.382320600Z",
     "start_time": "2024-04-08T07:13:46.726043200Z"
    }
   },
   "id": "4a578417aa735421"
  },
  {
   "cell_type": "code",
   "execution_count": 15,
   "outputs": [],
   "source": [
    "df['prediction'] = y_pred"
   ],
   "metadata": {
    "collapsed": false,
    "ExecuteTime": {
     "end_time": "2024-04-08T07:16:48.843833Z",
     "start_time": "2024-04-08T07:16:48.812559900Z"
    }
   },
   "id": "bd7c3d42be70529"
  },
  {
   "cell_type": "code",
   "execution_count": 16,
   "outputs": [],
   "source": [
    "df_result = df[['ride_id', 'prediction']]"
   ],
   "metadata": {
    "collapsed": false,
    "ExecuteTime": {
     "end_time": "2024-04-08T07:16:52.794325300Z",
     "start_time": "2024-04-08T07:16:52.743536500Z"
    }
   },
   "id": "353fad6b7608ee4d"
  },
  {
   "cell_type": "code",
   "execution_count": 20,
   "outputs": [],
   "source": [
    "output_file = fr'C:\\Users\\Jiet_Mao_Lim\\IdeaProjects\\epam_learn\\mlops-zoomcamp\\homeworks\\output\\{year}\\{month}\\result.parquet'\n",
    "Path(output_file).parent.mkdir(parents=True, exist_ok=True)"
   ],
   "metadata": {
    "collapsed": false,
    "ExecuteTime": {
     "end_time": "2024-04-08T07:20:39.958339Z",
     "start_time": "2024-04-08T07:20:39.942693800Z"
    }
   },
   "id": "f1e869ff6d90e9b8"
  },
  {
   "cell_type": "code",
   "execution_count": 21,
   "outputs": [],
   "source": [
    "df_result.to_parquet(\n",
    "    output_file,\n",
    "    engine='pyarrow',\n",
    "    compression=None,\n",
    "    index=False\n",
    ")"
   ],
   "metadata": {
    "collapsed": false,
    "ExecuteTime": {
     "end_time": "2024-04-08T07:20:43.718499700Z",
     "start_time": "2024-04-08T07:20:43.247586800Z"
    }
   },
   "id": "82a6d5914d046f65"
  },
  {
   "cell_type": "code",
   "execution_count": 31,
   "outputs": [
    {
     "name": "stdout",
     "output_type": "stream",
     "text": [
      "/homeworks/data/yellow_tripdata_2022-02.parquet\n"
     ]
    }
   ],
   "source": [
    "print(fr'/homeworks/data/yellow_tripdata_{year}-{month:02}.parquet')"
   ],
   "metadata": {
    "collapsed": false,
    "ExecuteTime": {
     "end_time": "2024-04-08T10:00:15.137665500Z",
     "start_time": "2024-04-08T10:00:15.127693100Z"
    }
   },
   "id": "b7435436268f8b09"
  }
 ],
 "metadata": {
  "kernelspec": {
   "display_name": "Python 3 (ipykernel)",
   "language": "python",
   "name": "python3"
  },
  "language_info": {
   "codemirror_mode": {
    "name": "ipython",
    "version": 3
   },
   "file_extension": ".py",
   "mimetype": "text/x-python",
   "name": "python",
   "nbconvert_exporter": "python",
   "pygments_lexer": "ipython3",
   "version": "3.10.0"
  }
 },
 "nbformat": 4,
 "nbformat_minor": 5
}
