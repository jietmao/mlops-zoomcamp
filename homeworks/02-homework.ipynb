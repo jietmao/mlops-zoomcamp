{
 "cells": [
  {
   "cell_type": "markdown",
   "source": [
    "#### Q1. Install the package\n",
    "To get started with MLflow you'll need to install the appropriate Python package.\n",
    "\n",
    "For this we recommend creating a separate Python environment, for example, you can use conda environments, and then install the package there with pip or conda.\n",
    "\n",
    "Once you installed the package, run the command `mlflow --version` and check the output.\n",
    "\n",
    "What's the version that you have?\n",
    "\n",
    "Ans: 2.11.3"
   ],
   "metadata": {
    "collapsed": false
   },
   "id": "1a6318b99bd93a98"
  },
  {
   "cell_type": "code",
   "execution_count": 2,
   "outputs": [
    {
     "name": "stdout",
     "output_type": "stream",
     "text": [
      "mlflow, version 2.11.3\n"
     ]
    }
   ],
   "source": [
    "!mlflow --version"
   ],
   "metadata": {
    "collapsed": false,
    "ExecuteTime": {
     "end_time": "2024-04-06T12:23:04.806630400Z",
     "start_time": "2024-04-06T12:23:03.008662900Z"
    }
   },
   "id": "78b768bfcd223770"
  },
  {
   "cell_type": "markdown",
   "source": [
    "#### Q2. Download and preprocess the data\n",
    "\n",
    "We'll use the Green Taxi Trip Records dataset to predict the amount of tips for each trip.\n",
    "\n",
    "Download the data for January, February and March 2022 in parquet format from here.\n",
    "\n",
    "Use the script `preprocess_data.py` located in the folder homework to preprocess the data.\n",
    "\n",
    "The script will:\n",
    "* load the data from the folder `<TAXI_DATA_FOLDER>` (the folder where you have downloaded the data),\n",
    "* fit a `DictVectorizer` on the training set (January 2022 data),\n",
    "* save the preprocessed datasets and the `DictVectorizer` to disk.\n",
    "\n",
    "Your task is to download the datasets and then execute this command:\n",
    "\n",
    "```\n",
    "python preprocess_data.py --raw_data_path <TAXI_DATA_FOLDER> --dest_path ./output\n",
    "```\n",
    "\n",
    "Tip: go to `02-experiment-tracking/homework/` folder before executing the command and change the value of `<TAXI_DATA_FOLDER>` to the location where you saved the data.\n",
    "\n",
    "So what's the size of the saved `DictVectorizer` file?\n",
    "\n",
    "Ans: 154 kB (actual is 151 KB)"
   ],
   "metadata": {
    "collapsed": false
   },
   "id": "584c54f9500ba1f"
  },
  {
   "cell_type": "code",
   "execution_count": 5,
   "outputs": [],
   "source": [
    "data_path = r'C:\\Users\\Jiet_Mao_Lim\\IdeaProjects\\epam_learn\\mlops-zoomcamp\\01-intro\\data'\n",
    "script_path = r'C:\\Users\\Jiet_Mao_Lim\\IdeaProjects\\epam_learn\\mlops-zoomcamp\\cohorts\\2023\\02-experiment-tracking\\homework\\preprocess_data.py'"
   ],
   "metadata": {
    "collapsed": false,
    "ExecuteTime": {
     "end_time": "2024-04-06T12:32:30.680575200Z",
     "start_time": "2024-04-06T12:32:30.649194600Z"
    }
   },
   "id": "ebc29a1b6d16ac8"
  },
  {
   "cell_type": "code",
   "execution_count": 6,
   "outputs": [],
   "source": [
    "!python {script_path} --raw_data_path {data_path} --dest_path ./output"
   ],
   "metadata": {
    "collapsed": false,
    "ExecuteTime": {
     "end_time": "2024-04-06T12:32:42.539274600Z",
     "start_time": "2024-04-06T12:32:40.467853Z"
    }
   },
   "id": "5b9ded4f1aa6edd9"
  },
  {
   "cell_type": "markdown",
   "source": [
    "#### Q3. Train a model with autolog\n",
    "\n",
    "We will train a `RandomForestRegressor` (from Scikit-Learn) on the taxi dataset.\n",
    "\n",
    "We have prepared the training script `train.py` for this exercise, which can be also found in the folder `homework`. \n",
    "\n",
    "The script will:\n",
    "\n",
    "* load the datasets produced by the previous step,\n",
    "* train the model on the training set,\n",
    "* calculate the RMSE score on the validation set.\n",
    "\n",
    "Your task is to modify the script to enable **autologging** with MLflow, execute the script and then launch the MLflow UI to check that the experiment run was properly tracked. \n",
    "\n",
    "Tip 1: don't forget to wrap the training code with a `with mlflow.start_run():` statement as we showed in the videos.\n",
    "\n",
    "Tip 2: don't modify the hyperparameters of the model to make sure that the training will finish quickly.\n",
    "\n",
    "What is the value of the `max_depth` parameter:\n",
    "\n",
    "Ans: 10"
   ],
   "metadata": {
    "collapsed": false
   },
   "id": "96ebe1eea1a11125"
  },
  {
   "cell_type": "code",
   "execution_count": 7,
   "outputs": [],
   "source": [
    "train_script_path = r'C:\\Users\\Jiet_Mao_Lim\\IdeaProjects\\epam_learn\\mlops-zoomcamp\\cohorts\\2023\\02-experiment-tracking\\homework\\train.py'"
   ],
   "metadata": {
    "collapsed": false,
    "ExecuteTime": {
     "end_time": "2024-04-06T12:52:45.061888900Z",
     "start_time": "2024-04-06T12:52:45.014891200Z"
    }
   },
   "id": "545e29d0077e18eb"
  },
  {
   "cell_type": "code",
   "execution_count": 9,
   "outputs": [
    {
     "name": "stderr",
     "output_type": "stream",
     "text": [
      "2024/04/06 20:53:08 INFO mlflow.tracking.fluent: Experiment with name '02-experiment-tracking-homework' does not exist. Creating a new experiment.\n",
      "2024/04/06 20:53:08 INFO mlflow.tracking.fluent: Autologging successfully enabled for sklearn.\n",
      "2024/04/06 20:53:08 WARNING mlflow.spark: With Pyspark >= 3.2, PYSPARK_PIN_THREAD environment variable must be set to false for Spark datasource autologging to work.\n",
      "2024/04/06 20:53:08 INFO mlflow.tracking.fluent: Autologging successfully enabled for pyspark.\n",
      "2024/04/06 20:53:09 WARNING mlflow.sklearn: Failed to log training dataset information to MLflow Tracking. Reason: 'numpy.ndarray' object has no attribute 'toarray'\n",
      "2024/04/06 20:53:23 WARNING mlflow.utils.autologging_utils: MLflow autologging encountered a warning: \"C:\\Users\\Jiet_Mao_Lim\\AppData\\Local\\anaconda3\\envs\\mlops-zoomcamp\\lib\\site-packages\\_distutils_hack\\__init__.py:33: UserWarning: Setuptools is replacing distutils.\"\n",
      "C:\\Users\\Jiet_Mao_Lim\\AppData\\Local\\anaconda3\\envs\\mlops-zoomcamp\\lib\\site-packages\\sklearn\\metrics\\_regression.py:483: FutureWarning: 'squared' is deprecated in version 1.4 and will be removed in 1.6. To calculate the root mean squared error, use the function'root_mean_squared_error'.\n",
      "  warnings.warn(\n"
     ]
    }
   ],
   "source": [
    "!python {train_script_path} --data_path ./output"
   ],
   "metadata": {
    "collapsed": false,
    "ExecuteTime": {
     "end_time": "2024-04-06T12:53:27.161268600Z",
     "start_time": "2024-04-06T12:53:06.042716900Z"
    }
   },
   "id": "b14fdf1e5e0656af"
  },
  {
   "cell_type": "markdown",
   "source": [
    "#### Q4. Tune model hyperparameters\n",
    "\n",
    "Now let's try to reduce the validation error by tuning the hyperparameters of the `RandomForestRegressor` using `optuna`. \n",
    "We have prepared the script `hpo.py` for this exercise. \n",
    "\n",
    "Your task is to modify the script `hpo.py` and make sure that the validation RMSE is logged to the tracking server for each run of the hyperparameter optimization (you will need to add a few lines of code to the `objective` function) and run the script without passing any parameters.\n",
    "\n",
    "After that, open UI and explore the runs from the experiment called `random-forest-hyperopt` to answer the question below.\n",
    "\n",
    "Note: Don't use autologging for this exercise.\n",
    "\n",
    "The idea is to just log the information that you need to answer the question below, including:\n",
    "\n",
    "* the list of hyperparameters that are passed to the `objective` function during the optimization,\n",
    "* the RMSE obtained on the validation set (February 2022 data).\n",
    "\n",
    "What's the best validation RMSE that you got?\n",
    "\n",
    "Ans: 2.45"
   ],
   "metadata": {
    "collapsed": false
   },
   "id": "5690aa666029f416"
  },
  {
   "cell_type": "code",
   "execution_count": null,
   "outputs": [],
   "source": [
    "artifact_path = 'file:///C:/Users/Jiet_Mao_Lim/IdeaProjects/epam_learn/mlops-zoomcamp/02-experiment-tracking/artifacts'"
   ],
   "metadata": {
    "collapsed": false
   },
   "id": "ae74565130a1843d"
  },
  {
   "cell_type": "code",
   "execution_count": 10,
   "outputs": [
    {
     "name": "stdout",
     "output_type": "stream",
     "text": [
      "^C\n"
     ]
    }
   ],
   "source": [
    "!mlflow server --backend-store-uri sqlite:///mlflow.db --default-artifact-root {artifact_path}"
   ],
   "metadata": {
    "collapsed": false,
    "ExecuteTime": {
     "end_time": "2024-04-06T13:03:38.075983100Z",
     "start_time": "2024-04-06T13:03:21.400571100Z"
    }
   },
   "id": "e04bd42835c516e9"
  },
  {
   "cell_type": "code",
   "execution_count": 11,
   "outputs": [],
   "source": [
    "hpo_script_path = r'C:\\Users\\Jiet_Mao_Lim\\IdeaProjects\\epam_learn\\mlops-zoomcamp\\cohorts\\2023\\02-experiment-tracking\\homework\\hpo.py'"
   ],
   "metadata": {
    "collapsed": false,
    "ExecuteTime": {
     "end_time": "2024-04-06T13:10:39.114651700Z",
     "start_time": "2024-04-06T13:10:39.083218200Z"
    }
   },
   "id": "c2473960912e8cf5"
  },
  {
   "cell_type": "code",
   "execution_count": 13,
   "outputs": [
    {
     "name": "stderr",
     "output_type": "stream",
     "text": [
      "2024/04/06 21:12:26 INFO mlflow.tracking.fluent: Experiment with name 'random-forest-hyperopt' does not exist. Creating a new experiment.\n",
      "[I 2024-04-06 21:12:26,067] A new study created in memory with name: no-name-02fdc4d4-8993-43e6-a4cc-d76b154f6118\n",
      "C:\\Users\\Jiet_Mao_Lim\\IdeaProjects\\DataTalksClub\\mlops-zoomcamp\\cohorts\\2023\\02-experiment-tracking\\homework\\hpo.py:39: FutureWarning: suggest_int() got {'step'} as positional arguments but they were expected to be given as keyword arguments.\n",
      "  'n_estimators': trial.suggest_int('n_estimators', 10, 50, 1),\n",
      "C:\\Users\\Jiet_Mao_Lim\\IdeaProjects\\DataTalksClub\\mlops-zoomcamp\\cohorts\\2023\\02-experiment-tracking\\homework\\hpo.py:40: FutureWarning: suggest_int() got {'step'} as positional arguments but they were expected to be given as keyword arguments.\n",
      "  'max_depth': trial.suggest_int('max_depth', 1, 20, 1),\n",
      "C:\\Users\\Jiet_Mao_Lim\\IdeaProjects\\DataTalksClub\\mlops-zoomcamp\\cohorts\\2023\\02-experiment-tracking\\homework\\hpo.py:41: FutureWarning: suggest_int() got {'step'} as positional arguments but they were expected to be given as keyword arguments.\n",
      "  'min_samples_split': trial.suggest_int('min_samples_split', 2, 10, 1),\n",
      "C:\\Users\\Jiet_Mao_Lim\\IdeaProjects\\DataTalksClub\\mlops-zoomcamp\\cohorts\\2023\\02-experiment-tracking\\homework\\hpo.py:42: FutureWarning: suggest_int() got {'step'} as positional arguments but they were expected to be given as keyword arguments.\n",
      "  'min_samples_leaf': trial.suggest_int('min_samples_leaf', 1, 4, 1),\n",
      "C:\\Users\\Jiet_Mao_Lim\\AppData\\Local\\anaconda3\\envs\\mlops-zoomcamp\\lib\\site-packages\\sklearn\\metrics\\_regression.py:483: FutureWarning: 'squared' is deprecated in version 1.4 and will be removed in 1.6. To calculate the root mean squared error, use the function'root_mean_squared_error'.\n",
      "  warnings.warn(\n",
      "[I 2024-04-06 21:12:27,433] Trial 0 finished with value: 2.451379690825458 and parameters: {'n_estimators': 25, 'max_depth': 20, 'min_samples_split': 8, 'min_samples_leaf': 3}. Best is trial 0 with value: 2.451379690825458.\n",
      "C:\\Users\\Jiet_Mao_Lim\\IdeaProjects\\DataTalksClub\\mlops-zoomcamp\\cohorts\\2023\\02-experiment-tracking\\homework\\hpo.py:39: FutureWarning: suggest_int() got {'step'} as positional arguments but they were expected to be given as keyword arguments.\n",
      "  'n_estimators': trial.suggest_int('n_estimators', 10, 50, 1),\n",
      "C:\\Users\\Jiet_Mao_Lim\\IdeaProjects\\DataTalksClub\\mlops-zoomcamp\\cohorts\\2023\\02-experiment-tracking\\homework\\hpo.py:40: FutureWarning: suggest_int() got {'step'} as positional arguments but they were expected to be given as keyword arguments.\n",
      "  'max_depth': trial.suggest_int('max_depth', 1, 20, 1),\n",
      "C:\\Users\\Jiet_Mao_Lim\\IdeaProjects\\DataTalksClub\\mlops-zoomcamp\\cohorts\\2023\\02-experiment-tracking\\homework\\hpo.py:41: FutureWarning: suggest_int() got {'step'} as positional arguments but they were expected to be given as keyword arguments.\n",
      "  'min_samples_split': trial.suggest_int('min_samples_split', 2, 10, 1),\n",
      "C:\\Users\\Jiet_Mao_Lim\\IdeaProjects\\DataTalksClub\\mlops-zoomcamp\\cohorts\\2023\\02-experiment-tracking\\homework\\hpo.py:42: FutureWarning: suggest_int() got {'step'} as positional arguments but they were expected to be given as keyword arguments.\n",
      "  'min_samples_leaf': trial.suggest_int('min_samples_leaf', 1, 4, 1),\n",
      "C:\\Users\\Jiet_Mao_Lim\\AppData\\Local\\anaconda3\\envs\\mlops-zoomcamp\\lib\\site-packages\\sklearn\\metrics\\_regression.py:483: FutureWarning: 'squared' is deprecated in version 1.4 and will be removed in 1.6. To calculate the root mean squared error, use the function'root_mean_squared_error'.\n",
      "  warnings.warn(\n",
      "[I 2024-04-06 21:12:27,665] Trial 1 finished with value: 2.4667366020368333 and parameters: {'n_estimators': 16, 'max_depth': 4, 'min_samples_split': 2, 'min_samples_leaf': 4}. Best is trial 0 with value: 2.451379690825458.\n",
      "C:\\Users\\Jiet_Mao_Lim\\IdeaProjects\\DataTalksClub\\mlops-zoomcamp\\cohorts\\2023\\02-experiment-tracking\\homework\\hpo.py:39: FutureWarning: suggest_int() got {'step'} as positional arguments but they were expected to be given as keyword arguments.\n",
      "  'n_estimators': trial.suggest_int('n_estimators', 10, 50, 1),\n",
      "C:\\Users\\Jiet_Mao_Lim\\IdeaProjects\\DataTalksClub\\mlops-zoomcamp\\cohorts\\2023\\02-experiment-tracking\\homework\\hpo.py:40: FutureWarning: suggest_int() got {'step'} as positional arguments but they were expected to be given as keyword arguments.\n",
      "  'max_depth': trial.suggest_int('max_depth', 1, 20, 1),\n",
      "C:\\Users\\Jiet_Mao_Lim\\IdeaProjects\\DataTalksClub\\mlops-zoomcamp\\cohorts\\2023\\02-experiment-tracking\\homework\\hpo.py:41: FutureWarning: suggest_int() got {'step'} as positional arguments but they were expected to be given as keyword arguments.\n",
      "  'min_samples_split': trial.suggest_int('min_samples_split', 2, 10, 1),\n",
      "C:\\Users\\Jiet_Mao_Lim\\IdeaProjects\\DataTalksClub\\mlops-zoomcamp\\cohorts\\2023\\02-experiment-tracking\\homework\\hpo.py:42: FutureWarning: suggest_int() got {'step'} as positional arguments but they were expected to be given as keyword arguments.\n",
      "  'min_samples_leaf': trial.suggest_int('min_samples_leaf', 1, 4, 1),\n",
      "C:\\Users\\Jiet_Mao_Lim\\AppData\\Local\\anaconda3\\envs\\mlops-zoomcamp\\lib\\site-packages\\sklearn\\metrics\\_regression.py:483: FutureWarning: 'squared' is deprecated in version 1.4 and will be removed in 1.6. To calculate the root mean squared error, use the function'root_mean_squared_error'.\n",
      "  warnings.warn(\n",
      "[I 2024-04-06 21:12:28,660] Trial 2 finished with value: 2.449827329704216 and parameters: {'n_estimators': 34, 'max_depth': 15, 'min_samples_split': 2, 'min_samples_leaf': 4}. Best is trial 2 with value: 2.449827329704216.\n",
      "C:\\Users\\Jiet_Mao_Lim\\IdeaProjects\\DataTalksClub\\mlops-zoomcamp\\cohorts\\2023\\02-experiment-tracking\\homework\\hpo.py:39: FutureWarning: suggest_int() got {'step'} as positional arguments but they were expected to be given as keyword arguments.\n",
      "  'n_estimators': trial.suggest_int('n_estimators', 10, 50, 1),\n",
      "C:\\Users\\Jiet_Mao_Lim\\IdeaProjects\\DataTalksClub\\mlops-zoomcamp\\cohorts\\2023\\02-experiment-tracking\\homework\\hpo.py:40: FutureWarning: suggest_int() got {'step'} as positional arguments but they were expected to be given as keyword arguments.\n",
      "  'max_depth': trial.suggest_int('max_depth', 1, 20, 1),\n",
      "C:\\Users\\Jiet_Mao_Lim\\IdeaProjects\\DataTalksClub\\mlops-zoomcamp\\cohorts\\2023\\02-experiment-tracking\\homework\\hpo.py:41: FutureWarning: suggest_int() got {'step'} as positional arguments but they were expected to be given as keyword arguments.\n",
      "  'min_samples_split': trial.suggest_int('min_samples_split', 2, 10, 1),\n",
      "C:\\Users\\Jiet_Mao_Lim\\IdeaProjects\\DataTalksClub\\mlops-zoomcamp\\cohorts\\2023\\02-experiment-tracking\\homework\\hpo.py:42: FutureWarning: suggest_int() got {'step'} as positional arguments but they were expected to be given as keyword arguments.\n",
      "  'min_samples_leaf': trial.suggest_int('min_samples_leaf', 1, 4, 1),\n",
      "C:\\Users\\Jiet_Mao_Lim\\AppData\\Local\\anaconda3\\envs\\mlops-zoomcamp\\lib\\site-packages\\sklearn\\metrics\\_regression.py:483: FutureWarning: 'squared' is deprecated in version 1.4 and will be removed in 1.6. To calculate the root mean squared error, use the function'root_mean_squared_error'.\n",
      "  warnings.warn(\n",
      "[I 2024-04-06 21:12:29,339] Trial 3 finished with value: 2.460983516558473 and parameters: {'n_estimators': 44, 'max_depth': 5, 'min_samples_split': 3, 'min_samples_leaf': 1}. Best is trial 2 with value: 2.449827329704216.\n",
      "C:\\Users\\Jiet_Mao_Lim\\IdeaProjects\\DataTalksClub\\mlops-zoomcamp\\cohorts\\2023\\02-experiment-tracking\\homework\\hpo.py:39: FutureWarning: suggest_int() got {'step'} as positional arguments but they were expected to be given as keyword arguments.\n",
      "  'n_estimators': trial.suggest_int('n_estimators', 10, 50, 1),\n",
      "C:\\Users\\Jiet_Mao_Lim\\IdeaProjects\\DataTalksClub\\mlops-zoomcamp\\cohorts\\2023\\02-experiment-tracking\\homework\\hpo.py:40: FutureWarning: suggest_int() got {'step'} as positional arguments but they were expected to be given as keyword arguments.\n",
      "  'max_depth': trial.suggest_int('max_depth', 1, 20, 1),\n",
      "C:\\Users\\Jiet_Mao_Lim\\IdeaProjects\\DataTalksClub\\mlops-zoomcamp\\cohorts\\2023\\02-experiment-tracking\\homework\\hpo.py:41: FutureWarning: suggest_int() got {'step'} as positional arguments but they were expected to be given as keyword arguments.\n",
      "  'min_samples_split': trial.suggest_int('min_samples_split', 2, 10, 1),\n",
      "C:\\Users\\Jiet_Mao_Lim\\IdeaProjects\\DataTalksClub\\mlops-zoomcamp\\cohorts\\2023\\02-experiment-tracking\\homework\\hpo.py:42: FutureWarning: suggest_int() got {'step'} as positional arguments but they were expected to be given as keyword arguments.\n",
      "  'min_samples_leaf': trial.suggest_int('min_samples_leaf', 1, 4, 1),\n",
      "C:\\Users\\Jiet_Mao_Lim\\AppData\\Local\\anaconda3\\envs\\mlops-zoomcamp\\lib\\site-packages\\sklearn\\metrics\\_regression.py:483: FutureWarning: 'squared' is deprecated in version 1.4 and will be removed in 1.6. To calculate the root mean squared error, use the function'root_mean_squared_error'.\n",
      "  warnings.warn(\n",
      "[I 2024-04-06 21:12:30,037] Trial 4 finished with value: 2.453877262701052 and parameters: {'n_estimators': 22, 'max_depth': 11, 'min_samples_split': 5, 'min_samples_leaf': 2}. Best is trial 2 with value: 2.449827329704216.\n",
      "C:\\Users\\Jiet_Mao_Lim\\IdeaProjects\\DataTalksClub\\mlops-zoomcamp\\cohorts\\2023\\02-experiment-tracking\\homework\\hpo.py:39: FutureWarning: suggest_int() got {'step'} as positional arguments but they were expected to be given as keyword arguments.\n",
      "  'n_estimators': trial.suggest_int('n_estimators', 10, 50, 1),\n",
      "C:\\Users\\Jiet_Mao_Lim\\IdeaProjects\\DataTalksClub\\mlops-zoomcamp\\cohorts\\2023\\02-experiment-tracking\\homework\\hpo.py:40: FutureWarning: suggest_int() got {'step'} as positional arguments but they were expected to be given as keyword arguments.\n",
      "  'max_depth': trial.suggest_int('max_depth', 1, 20, 1),\n",
      "C:\\Users\\Jiet_Mao_Lim\\IdeaProjects\\DataTalksClub\\mlops-zoomcamp\\cohorts\\2023\\02-experiment-tracking\\homework\\hpo.py:41: FutureWarning: suggest_int() got {'step'} as positional arguments but they were expected to be given as keyword arguments.\n",
      "  'min_samples_split': trial.suggest_int('min_samples_split', 2, 10, 1),\n",
      "C:\\Users\\Jiet_Mao_Lim\\IdeaProjects\\DataTalksClub\\mlops-zoomcamp\\cohorts\\2023\\02-experiment-tracking\\homework\\hpo.py:42: FutureWarning: suggest_int() got {'step'} as positional arguments but they were expected to be given as keyword arguments.\n",
      "  'min_samples_leaf': trial.suggest_int('min_samples_leaf', 1, 4, 1),\n",
      "C:\\Users\\Jiet_Mao_Lim\\AppData\\Local\\anaconda3\\envs\\mlops-zoomcamp\\lib\\site-packages\\sklearn\\metrics\\_regression.py:483: FutureWarning: 'squared' is deprecated in version 1.4 and will be removed in 1.6. To calculate the root mean squared error, use the function'root_mean_squared_error'.\n",
      "  warnings.warn(\n",
      "[I 2024-04-06 21:12:30,338] Trial 5 finished with value: 2.4720122094960733 and parameters: {'n_estimators': 35, 'max_depth': 3, 'min_samples_split': 4, 'min_samples_leaf': 2}. Best is trial 2 with value: 2.449827329704216.\n",
      "C:\\Users\\Jiet_Mao_Lim\\IdeaProjects\\DataTalksClub\\mlops-zoomcamp\\cohorts\\2023\\02-experiment-tracking\\homework\\hpo.py:39: FutureWarning: suggest_int() got {'step'} as positional arguments but they were expected to be given as keyword arguments.\n",
      "  'n_estimators': trial.suggest_int('n_estimators', 10, 50, 1),\n",
      "C:\\Users\\Jiet_Mao_Lim\\IdeaProjects\\DataTalksClub\\mlops-zoomcamp\\cohorts\\2023\\02-experiment-tracking\\homework\\hpo.py:40: FutureWarning: suggest_int() got {'step'} as positional arguments but they were expected to be given as keyword arguments.\n",
      "  'max_depth': trial.suggest_int('max_depth', 1, 20, 1),\n",
      "C:\\Users\\Jiet_Mao_Lim\\IdeaProjects\\DataTalksClub\\mlops-zoomcamp\\cohorts\\2023\\02-experiment-tracking\\homework\\hpo.py:41: FutureWarning: suggest_int() got {'step'} as positional arguments but they were expected to be given as keyword arguments.\n",
      "  'min_samples_split': trial.suggest_int('min_samples_split', 2, 10, 1),\n",
      "C:\\Users\\Jiet_Mao_Lim\\IdeaProjects\\DataTalksClub\\mlops-zoomcamp\\cohorts\\2023\\02-experiment-tracking\\homework\\hpo.py:42: FutureWarning: suggest_int() got {'step'} as positional arguments but they were expected to be given as keyword arguments.\n",
      "  'min_samples_leaf': trial.suggest_int('min_samples_leaf', 1, 4, 1),\n",
      "C:\\Users\\Jiet_Mao_Lim\\AppData\\Local\\anaconda3\\envs\\mlops-zoomcamp\\lib\\site-packages\\sklearn\\metrics\\_regression.py:483: FutureWarning: 'squared' is deprecated in version 1.4 and will be removed in 1.6. To calculate the root mean squared error, use the function'root_mean_squared_error'.\n",
      "  warnings.warn(\n",
      "[I 2024-04-06 21:12:31,447] Trial 6 finished with value: 2.4516421799356767 and parameters: {'n_estimators': 28, 'max_depth': 16, 'min_samples_split': 3, 'min_samples_leaf': 3}. Best is trial 2 with value: 2.449827329704216.\n",
      "C:\\Users\\Jiet_Mao_Lim\\IdeaProjects\\DataTalksClub\\mlops-zoomcamp\\cohorts\\2023\\02-experiment-tracking\\homework\\hpo.py:39: FutureWarning: suggest_int() got {'step'} as positional arguments but they were expected to be given as keyword arguments.\n",
      "  'n_estimators': trial.suggest_int('n_estimators', 10, 50, 1),\n",
      "C:\\Users\\Jiet_Mao_Lim\\IdeaProjects\\DataTalksClub\\mlops-zoomcamp\\cohorts\\2023\\02-experiment-tracking\\homework\\hpo.py:40: FutureWarning: suggest_int() got {'step'} as positional arguments but they were expected to be given as keyword arguments.\n",
      "  'max_depth': trial.suggest_int('max_depth', 1, 20, 1),\n",
      "C:\\Users\\Jiet_Mao_Lim\\IdeaProjects\\DataTalksClub\\mlops-zoomcamp\\cohorts\\2023\\02-experiment-tracking\\homework\\hpo.py:41: FutureWarning: suggest_int() got {'step'} as positional arguments but they were expected to be given as keyword arguments.\n",
      "  'min_samples_split': trial.suggest_int('min_samples_split', 2, 10, 1),\n",
      "C:\\Users\\Jiet_Mao_Lim\\IdeaProjects\\DataTalksClub\\mlops-zoomcamp\\cohorts\\2023\\02-experiment-tracking\\homework\\hpo.py:42: FutureWarning: suggest_int() got {'step'} as positional arguments but they were expected to be given as keyword arguments.\n",
      "  'min_samples_leaf': trial.suggest_int('min_samples_leaf', 1, 4, 1),\n",
      "C:\\Users\\Jiet_Mao_Lim\\AppData\\Local\\anaconda3\\envs\\mlops-zoomcamp\\lib\\site-packages\\sklearn\\metrics\\_regression.py:483: FutureWarning: 'squared' is deprecated in version 1.4 and will be removed in 1.6. To calculate the root mean squared error, use the function'root_mean_squared_error'.\n",
      "  warnings.warn(\n",
      "[I 2024-04-06 21:12:31,833] Trial 7 finished with value: 2.5374040268274087 and parameters: {'n_estimators': 34, 'max_depth': 1, 'min_samples_split': 7, 'min_samples_leaf': 1}. Best is trial 2 with value: 2.449827329704216.\n",
      "C:\\Users\\Jiet_Mao_Lim\\IdeaProjects\\DataTalksClub\\mlops-zoomcamp\\cohorts\\2023\\02-experiment-tracking\\homework\\hpo.py:39: FutureWarning: suggest_int() got {'step'} as positional arguments but they were expected to be given as keyword arguments.\n",
      "  'n_estimators': trial.suggest_int('n_estimators', 10, 50, 1),\n",
      "C:\\Users\\Jiet_Mao_Lim\\IdeaProjects\\DataTalksClub\\mlops-zoomcamp\\cohorts\\2023\\02-experiment-tracking\\homework\\hpo.py:40: FutureWarning: suggest_int() got {'step'} as positional arguments but they were expected to be given as keyword arguments.\n",
      "  'max_depth': trial.suggest_int('max_depth', 1, 20, 1),\n",
      "C:\\Users\\Jiet_Mao_Lim\\IdeaProjects\\DataTalksClub\\mlops-zoomcamp\\cohorts\\2023\\02-experiment-tracking\\homework\\hpo.py:41: FutureWarning: suggest_int() got {'step'} as positional arguments but they were expected to be given as keyword arguments.\n",
      "  'min_samples_split': trial.suggest_int('min_samples_split', 2, 10, 1),\n",
      "C:\\Users\\Jiet_Mao_Lim\\IdeaProjects\\DataTalksClub\\mlops-zoomcamp\\cohorts\\2023\\02-experiment-tracking\\homework\\hpo.py:42: FutureWarning: suggest_int() got {'step'} as positional arguments but they were expected to be given as keyword arguments.\n",
      "  'min_samples_leaf': trial.suggest_int('min_samples_leaf', 1, 4, 1),\n",
      "C:\\Users\\Jiet_Mao_Lim\\AppData\\Local\\anaconda3\\envs\\mlops-zoomcamp\\lib\\site-packages\\sklearn\\metrics\\_regression.py:483: FutureWarning: 'squared' is deprecated in version 1.4 and will be removed in 1.6. To calculate the root mean squared error, use the function'root_mean_squared_error'.\n",
      "  warnings.warn(\n",
      "[I 2024-04-06 21:12:32,784] Trial 8 finished with value: 2.455971238567075 and parameters: {'n_estimators': 12, 'max_depth': 19, 'min_samples_split': 10, 'min_samples_leaf': 4}. Best is trial 2 with value: 2.449827329704216.\n",
      "C:\\Users\\Jiet_Mao_Lim\\IdeaProjects\\DataTalksClub\\mlops-zoomcamp\\cohorts\\2023\\02-experiment-tracking\\homework\\hpo.py:39: FutureWarning: suggest_int() got {'step'} as positional arguments but they were expected to be given as keyword arguments.\n",
      "  'n_estimators': trial.suggest_int('n_estimators', 10, 50, 1),\n",
      "C:\\Users\\Jiet_Mao_Lim\\IdeaProjects\\DataTalksClub\\mlops-zoomcamp\\cohorts\\2023\\02-experiment-tracking\\homework\\hpo.py:40: FutureWarning: suggest_int() got {'step'} as positional arguments but they were expected to be given as keyword arguments.\n",
      "  'max_depth': trial.suggest_int('max_depth', 1, 20, 1),\n",
      "C:\\Users\\Jiet_Mao_Lim\\IdeaProjects\\DataTalksClub\\mlops-zoomcamp\\cohorts\\2023\\02-experiment-tracking\\homework\\hpo.py:41: FutureWarning: suggest_int() got {'step'} as positional arguments but they were expected to be given as keyword arguments.\n",
      "  'min_samples_split': trial.suggest_int('min_samples_split', 2, 10, 1),\n",
      "C:\\Users\\Jiet_Mao_Lim\\IdeaProjects\\DataTalksClub\\mlops-zoomcamp\\cohorts\\2023\\02-experiment-tracking\\homework\\hpo.py:42: FutureWarning: suggest_int() got {'step'} as positional arguments but they were expected to be given as keyword arguments.\n",
      "  'min_samples_leaf': trial.suggest_int('min_samples_leaf', 1, 4, 1),\n",
      "C:\\Users\\Jiet_Mao_Lim\\AppData\\Local\\anaconda3\\envs\\mlops-zoomcamp\\lib\\site-packages\\sklearn\\metrics\\_regression.py:483: FutureWarning: 'squared' is deprecated in version 1.4 and will be removed in 1.6. To calculate the root mean squared error, use the function'root_mean_squared_error'.\n",
      "  warnings.warn(\n",
      "[I 2024-04-06 21:12:33,172] Trial 9 finished with value: 2.486106021576535 and parameters: {'n_estimators': 22, 'max_depth': 2, 'min_samples_split': 8, 'min_samples_leaf': 2}. Best is trial 2 with value: 2.449827329704216.\n"
     ]
    }
   ],
   "source": [
    "!python {hpo_script_path}"
   ],
   "metadata": {
    "collapsed": false,
    "ExecuteTime": {
     "end_time": "2024-04-06T13:12:33.484695500Z",
     "start_time": "2024-04-06T13:12:23.836704300Z"
    }
   },
   "id": "d720a5a6a0958fba"
  },
  {
   "cell_type": "markdown",
   "source": [
    "#### Q5. Promote the best model to the model registry\n",
    "\n",
    "The results from the hyperparameter optimization are quite good. So, we can assume that we are ready to test some of these models in production. \n",
    "In this exercise, you'll promote the best model to the model registry. We have prepared a script called `register_model.py`, which will check the results from the previous step and select the top 5 runs. \n",
    "After that, it will calculate the RMSE of those models on the test set (March 2022 data) and save the results to a new experiment called `random-forest-best-models`.\n",
    "\n",
    "Your task is to update the script `register_model.py` so that it selects the model with the lowest RMSE on the test set and registers it to the model registry.\n",
    "\n",
    "Tips for MLflow:\n",
    "\n",
    "* you can use the method `search_runs` from the `MlflowClient` to get the model with the lowest RMSE,\n",
    "* to register the model you can use the method `mlflow.register_model` and you will need to pass the right `model_uri` in the form of a string that looks like this: `\"runs:/<RUN_ID>/model\"`, and the name of the model (make sure to choose a good one!).\n",
    "\n",
    "What is the test RMSE of the best model?\n",
    "\n",
    "Ans: 2.185"
   ],
   "metadata": {
    "collapsed": false
   },
   "id": "2bf904bd4fd7dc7c"
  },
  {
   "cell_type": "code",
   "execution_count": 14,
   "outputs": [],
   "source": [
    "model_script_path = r'C:\\Users\\Jiet_Mao_Lim\\IdeaProjects\\epam_learn\\mlops-zoomcamp\\cohorts\\2023\\02-experiment-tracking\\homework\\register_model.py'"
   ],
   "metadata": {
    "collapsed": false,
    "ExecuteTime": {
     "end_time": "2024-04-06T13:29:53.394300200Z",
     "start_time": "2024-04-06T13:29:53.362782100Z"
    }
   },
   "id": "191d6253b2fa02d8"
  },
  {
   "cell_type": "code",
   "execution_count": 17,
   "outputs": [
    {
     "name": "stderr",
     "output_type": "stream",
     "text": [
      "2024/04/06 21:32:51 WARNING mlflow.sklearn: Failed to log training dataset information to MLflow Tracking. Reason: 'numpy.ndarray' object has no attribute 'toarray'\n",
      "2024/04/06 21:32:55 WARNING mlflow.utils.autologging_utils: MLflow autologging encountered a warning: \"C:\\Users\\Jiet_Mao_Lim\\AppData\\Local\\anaconda3\\envs\\mlops-zoomcamp\\lib\\site-packages\\_distutils_hack\\__init__.py:33: UserWarning: Setuptools is replacing distutils.\"\n",
      "C:\\Users\\Jiet_Mao_Lim\\AppData\\Local\\anaconda3\\envs\\mlops-zoomcamp\\lib\\site-packages\\sklearn\\metrics\\_regression.py:483: FutureWarning: 'squared' is deprecated in version 1.4 and will be removed in 1.6. To calculate the root mean squared error, use the function'root_mean_squared_error'.\n",
      "  warnings.warn(\n",
      "C:\\Users\\Jiet_Mao_Lim\\AppData\\Local\\anaconda3\\envs\\mlops-zoomcamp\\lib\\site-packages\\sklearn\\metrics\\_regression.py:483: FutureWarning: 'squared' is deprecated in version 1.4 and will be removed in 1.6. To calculate the root mean squared error, use the function'root_mean_squared_error'.\n",
      "  warnings.warn(\n",
      "2024/04/06 21:33:02 WARNING mlflow.sklearn: Failed to log training dataset information to MLflow Tracking. Reason: 'numpy.ndarray' object has no attribute 'toarray'\n",
      "C:\\Users\\Jiet_Mao_Lim\\AppData\\Local\\anaconda3\\envs\\mlops-zoomcamp\\lib\\site-packages\\sklearn\\metrics\\_regression.py:483: FutureWarning: 'squared' is deprecated in version 1.4 and will be removed in 1.6. To calculate the root mean squared error, use the function'root_mean_squared_error'.\n",
      "  warnings.warn(\n",
      "C:\\Users\\Jiet_Mao_Lim\\AppData\\Local\\anaconda3\\envs\\mlops-zoomcamp\\lib\\site-packages\\sklearn\\metrics\\_regression.py:483: FutureWarning: 'squared' is deprecated in version 1.4 and will be removed in 1.6. To calculate the root mean squared error, use the function'root_mean_squared_error'.\n",
      "  warnings.warn(\n",
      "2024/04/06 21:33:13 WARNING mlflow.sklearn: Failed to log training dataset information to MLflow Tracking. Reason: 'numpy.ndarray' object has no attribute 'toarray'\n",
      "C:\\Users\\Jiet_Mao_Lim\\AppData\\Local\\anaconda3\\envs\\mlops-zoomcamp\\lib\\site-packages\\sklearn\\metrics\\_regression.py:483: FutureWarning: 'squared' is deprecated in version 1.4 and will be removed in 1.6. To calculate the root mean squared error, use the function'root_mean_squared_error'.\n",
      "  warnings.warn(\n",
      "C:\\Users\\Jiet_Mao_Lim\\AppData\\Local\\anaconda3\\envs\\mlops-zoomcamp\\lib\\site-packages\\sklearn\\metrics\\_regression.py:483: FutureWarning: 'squared' is deprecated in version 1.4 and will be removed in 1.6. To calculate the root mean squared error, use the function'root_mean_squared_error'.\n",
      "  warnings.warn(\n",
      "2024/04/06 21:33:25 WARNING mlflow.sklearn: Failed to log training dataset information to MLflow Tracking. Reason: 'numpy.ndarray' object has no attribute 'toarray'\n",
      "C:\\Users\\Jiet_Mao_Lim\\AppData\\Local\\anaconda3\\envs\\mlops-zoomcamp\\lib\\site-packages\\sklearn\\metrics\\_regression.py:483: FutureWarning: 'squared' is deprecated in version 1.4 and will be removed in 1.6. To calculate the root mean squared error, use the function'root_mean_squared_error'.\n",
      "  warnings.warn(\n",
      "C:\\Users\\Jiet_Mao_Lim\\AppData\\Local\\anaconda3\\envs\\mlops-zoomcamp\\lib\\site-packages\\sklearn\\metrics\\_regression.py:483: FutureWarning: 'squared' is deprecated in version 1.4 and will be removed in 1.6. To calculate the root mean squared error, use the function'root_mean_squared_error'.\n",
      "  warnings.warn(\n",
      "2024/04/06 21:33:36 WARNING mlflow.sklearn: Failed to log training dataset information to MLflow Tracking. Reason: 'numpy.ndarray' object has no attribute 'toarray'\n",
      "C:\\Users\\Jiet_Mao_Lim\\AppData\\Local\\anaconda3\\envs\\mlops-zoomcamp\\lib\\site-packages\\sklearn\\metrics\\_regression.py:483: FutureWarning: 'squared' is deprecated in version 1.4 and will be removed in 1.6. To calculate the root mean squared error, use the function'root_mean_squared_error'.\n",
      "  warnings.warn(\n",
      "C:\\Users\\Jiet_Mao_Lim\\AppData\\Local\\anaconda3\\envs\\mlops-zoomcamp\\lib\\site-packages\\sklearn\\metrics\\_regression.py:483: FutureWarning: 'squared' is deprecated in version 1.4 and will be removed in 1.6. To calculate the root mean squared error, use the function'root_mean_squared_error'.\n",
      "  warnings.warn(\n",
      "Successfully registered model 'best_model'.\n",
      "2024/04/06 21:33:48 INFO mlflow.store.model_registry.abstract_store: Waiting up to 300 seconds for model version to finish creation. Model name: best_model, version 1\n",
      "Created version '1' of model 'best_model'.\n"
     ]
    }
   ],
   "source": [
    "!python {model_script_path}"
   ],
   "metadata": {
    "collapsed": false,
    "ExecuteTime": {
     "end_time": "2024-04-06T13:33:48.648025900Z",
     "start_time": "2024-04-06T13:32:48.888888600Z"
    }
   },
   "id": "468dfdc86a2f6a12"
  },
  {
   "cell_type": "markdown",
   "source": [
    "#### Q6. Model metadata\n",
    "\n",
    "Now explore your best model in the model registry using UI. What information does the model registry contain about each model?\n",
    "\n",
    "* Version number\n",
    "* Source experiment\n",
    "* Model signature\n",
    "* All the above answers are correct\n",
    "\n",
    "Ans: All the above answers are correct"
   ],
   "metadata": {
    "collapsed": false
   },
   "id": "5590fd38318bd2d0"
  },
  {
   "cell_type": "code",
   "execution_count": null,
   "outputs": [],
   "source": [],
   "metadata": {
    "collapsed": false
   },
   "id": "fcc4d70be5fed30d"
  },
  {
   "cell_type": "code",
   "execution_count": null,
   "outputs": [],
   "source": [],
   "metadata": {
    "collapsed": false
   },
   "id": "377fe372056fe852"
  },
  {
   "cell_type": "code",
   "execution_count": null,
   "outputs": [],
   "source": [],
   "metadata": {
    "collapsed": false
   },
   "id": "4b6b5f51af86e3b8"
  },
  {
   "cell_type": "code",
   "execution_count": null,
   "outputs": [],
   "source": [],
   "metadata": {
    "collapsed": false
   },
   "id": "ab30d664805e840f"
  }
 ],
 "metadata": {
  "kernelspec": {
   "display_name": "Python 3",
   "language": "python",
   "name": "python3"
  },
  "language_info": {
   "codemirror_mode": {
    "name": "ipython",
    "version": 2
   },
   "file_extension": ".py",
   "mimetype": "text/x-python",
   "name": "python",
   "nbconvert_exporter": "python",
   "pygments_lexer": "ipython2",
   "version": "2.7.6"
  }
 },
 "nbformat": 4,
 "nbformat_minor": 5
}
