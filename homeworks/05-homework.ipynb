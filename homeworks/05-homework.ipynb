{
 "cells": [
  {
   "cell_type": "markdown",
   "source": [
    "#### Q1. Prepare the dataset\n",
    "\n",
    "Start with `baseline_model_nyc_taxi_data.ipynb`. Download the March 2023 Green Taxi data. We will use this data to simulate a production usage of a taxi trip duration prediction service.\n",
    "\n",
    "What is the shape of the downloaded data? How many rows are there?\n",
    "\n",
    "Ans: 72044"
   ],
   "metadata": {
    "collapsed": false
   },
   "id": "36b698e146942e6f"
  },
  {
   "cell_type": "code",
   "execution_count": null,
   "outputs": [],
   "source": [],
   "metadata": {
    "collapsed": false
   },
   "id": "fcc6efd2720ba6b7"
  },
  {
   "cell_type": "markdown",
   "source": [
    "#### Q2. Metric\n",
    "\n",
    "Let's expand the number of data quality metrics we’d like to monitor! Please add one metric of your choice and a quantile value for the `\"fare_amount\"` column (`quantile=0.5`).\n",
    "\n",
    "Hint: explore evidently metric `ColumnQuantileMetric` (from `evidently.metrics import ColumnQuantileMetric`) \n",
    "\n",
    "What metric did you choose?\n",
    "\n",
    "Ans: ColumnDistributionMetric"
   ],
   "metadata": {
    "collapsed": false
   },
   "id": "fd590b2e1ebe20dd"
  },
  {
   "cell_type": "code",
   "execution_count": null,
   "outputs": [],
   "source": [],
   "metadata": {
    "collapsed": false
   },
   "id": "ddcb326d07e23f1b"
  },
  {
   "cell_type": "markdown",
   "source": [
    "#### Q3. Prefect flow \n",
    "\n",
    "Let’s update prefect tasks by giving them nice meaningful names, specifying a number of delays and retries.\n",
    "\n",
    "Hint: use `evidently_metrics_calculation.py` script as a starting point to implement your solution. Check the  prefect docs to check task parameters.\n",
    "\n",
    "What is the correct way of doing that?\n",
    "\n",
    "Ans: `@task(retries=2, retry_delay_seconds=5, name=\"calculate metrics\")`"
   ],
   "metadata": {
    "collapsed": false
   },
   "id": "3567b06c93385a2c"
  },
  {
   "cell_type": "code",
   "execution_count": null,
   "outputs": [],
   "source": [],
   "metadata": {
    "collapsed": false
   },
   "id": "2d9d8ff3ec43efff"
  },
  {
   "cell_type": "markdown",
   "source": [
    "#### Q4. Monitoring\n",
    "\n",
    "Let’s start monitoring. Run expanded monitoring for a new batch of data (March 2023). \n",
    "\n",
    "What is the maximum value of metric `quantile = 0.5` on the `\"fare_amount\"` column during March 2023 (calculated daily)?\n",
    "\n",
    "Ans: 14"
   ],
   "metadata": {
    "collapsed": false
   },
   "id": "7c2ac41c7d186592"
  },
  {
   "cell_type": "code",
   "execution_count": null,
   "outputs": [],
   "source": [],
   "metadata": {
    "collapsed": false
   },
   "id": "2c4aacae134e99fb"
  },
  {
   "cell_type": "markdown",
   "source": [
    "#### Q5. Dashboard\n",
    "\n",
    "\n",
    "Finally, let’s add panels with new added metrics to the dashboard. After we customize the  dashboard let's save a dashboard config, so that we can access it later. Hint: click on “Save dashboard” to access JSON configuration of the dashboard. This configuration should be saved locally.\n",
    "\n",
    "Where to place a dashboard config file?\n",
    "\n",
    "Ans: `project_folder/config`  (05-monitoring/config)"
   ],
   "metadata": {
    "collapsed": false
   },
   "id": "4b20be1c292449c7"
  },
  {
   "cell_type": "code",
   "execution_count": null,
   "outputs": [],
   "source": [],
   "metadata": {
    "collapsed": false
   },
   "id": "c27e09adaa1daac2"
  },
  {
   "cell_type": "code",
   "execution_count": null,
   "outputs": [],
   "source": [],
   "metadata": {
    "collapsed": false
   },
   "id": "992ae40163fb6ff5"
  },
  {
   "cell_type": "code",
   "execution_count": null,
   "outputs": [],
   "source": [],
   "metadata": {
    "collapsed": false
   },
   "id": "361a0e22a003128e"
  }
 ],
 "metadata": {
  "kernelspec": {
   "display_name": "Python 3",
   "language": "python",
   "name": "python3"
  },
  "language_info": {
   "codemirror_mode": {
    "name": "ipython",
    "version": 2
   },
   "file_extension": ".py",
   "mimetype": "text/x-python",
   "name": "python",
   "nbconvert_exporter": "python",
   "pygments_lexer": "ipython2",
   "version": "2.7.6"
  }
 },
 "nbformat": 4,
 "nbformat_minor": 5
}
