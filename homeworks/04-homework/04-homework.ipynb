{
 "cells": [
  {
   "cell_type": "markdown",
   "source": [
    "#### Q1. Notebook\n",
    "\n",
    "We'll start with the same notebook we ended up with in homework 1.\n",
    "We cleaned it a little bit and kept only the scoring part. You can find the initial notebook [here](homework/starter.ipynb).\n",
    "\n",
    "Run this notebook for the February 2022 data.\n",
    "\n",
    "What's the standard deviation of the predicted duration for this dataset?\n",
    "\n",
    "Ans: 5.28"
   ],
   "metadata": {
    "collapsed": false
   },
   "id": "7ce111482b3febfb"
  },
  {
   "cell_type": "code",
   "execution_count": null,
   "outputs": [],
   "source": [
    " "
   ],
   "metadata": {
    "collapsed": false
   },
   "id": "2a2362265ae83b95"
  },
  {
   "cell_type": "markdown",
   "source": [
    "#### Q2. Preparing the output\n",
    "\n",
    "Like in the course videos, we want to prepare the dataframe with the output. \n",
    "\n",
    "First, let's create an artificial `ride_id` column:\n",
    "\n",
    "```python\n",
    "df['ride_id'] = f'{year:04d}/{month:02d}_' + df.index.astype('str')\n",
    "```\n",
    "\n",
    "Next, write the ride id and the predictions to a dataframe with results. \n",
    "\n",
    "Save it as parquet:\n",
    "\n",
    "```python\n",
    "df_result.to_parquet(\n",
    "    output_file,\n",
    "    engine='pyarrow',\n",
    "    compression=None,\n",
    "    index=False\n",
    ")\n",
    "```\n",
    "\n",
    "What's the size of the output file?\n",
    "\n",
    "Ans: 58M"
   ],
   "metadata": {
    "collapsed": false
   },
   "id": "960b893fb6e7f483"
  },
  {
   "cell_type": "code",
   "execution_count": null,
   "outputs": [],
   "source": [],
   "metadata": {
    "collapsed": false
   },
   "id": "a8daa2fdc8706bd6"
  },
  {
   "cell_type": "markdown",
   "source": [
    "#### Q3. Creating the scoring script\n",
    "\n",
    "Now let's turn the notebook into a script. \n",
    "\n",
    "Which command you need to execute for that?\n",
    "\n",
    "Ans: jupyter nbconvert --to script *.ipynb"
   ],
   "metadata": {
    "collapsed": false
   },
   "id": "9c7e257514b0710e"
  },
  {
   "cell_type": "code",
   "execution_count": null,
   "outputs": [],
   "source": [
    "!jupyter nbconvert --to script starter.ipynb"
   ],
   "metadata": {
    "collapsed": false
   },
   "id": "d0ba9f6d6b48d43"
  },
  {
   "cell_type": "markdown",
   "source": [
    "#### Q4. Virtual environment\n",
    "\n",
    "Now let's put everything into a virtual environment. We'll use pipenv for that.\n",
    "\n",
    "Install all the required libraries. Pay attention to the Scikit-Learn version:\n",
    "it should be `scikit-learn==1.2.2`. \n",
    "\n",
    "After installing the libraries, pipenv creates two files: `Pipfile`\n",
    "and `Pipfile.lock`. The `Pipfile.lock` file keeps the hashes of the\n",
    "dependencies we use for the virtual env.\n",
    "\n",
    "\n",
    "Ans: sha256:08ef968f6b72033c16c479c966bf37ccd49b06ea91b765e1cc27afefe723920b"
   ],
   "metadata": {
    "collapsed": false
   },
   "id": "53e8511c93726191"
  },
  {
   "cell_type": "code",
   "execution_count": null,
   "outputs": [],
   "source": [],
   "metadata": {
    "collapsed": false
   },
   "id": "936268c00b13c4a7"
  },
  {
   "cell_type": "markdown",
   "source": [
    "#### Q5. Parametrize the script\n",
    "\n",
    "Let's now make the script configurable via CLI. We'll create two \n",
    "parameters: year and month.\n",
    "\n",
    "Run the script for March 2022. \n",
    "\n",
    "What's the mean predicted duration? \n",
    "\n",
    "Ans: 12.76"
   ],
   "metadata": {
    "collapsed": false
   },
   "id": "31e30c078e95938d"
  },
  {
   "cell_type": "code",
   "execution_count": null,
   "outputs": [],
   "source": [],
   "metadata": {
    "collapsed": false
   },
   "id": "16cb5b651c4fa008"
  },
  {
   "cell_type": "markdown",
   "source": [
    "#### Q6. Docker container \n",
    "\n",
    "Finally, we'll package the script in the docker container. \n",
    "For that, you'll need to use a base image that we prepared. \n",
    "\n",
    "This is how it looks like:\n",
    "\n",
    "```\n",
    "FROM python:3.10.0-slim\n",
    "\n",
    "WORKDIR /app\n",
    "COPY [ \"model2.bin\", \"model.bin\" ]\n",
    "```\n",
    "\n",
    "(see [`homework/Dockerfile`](homework/Dockerfile))\n",
    "\n",
    "We pushed it to [`svizor/zoomcamp-model:mlops-3.10.0-slim`](https://hub.docker.com/layers/svizor/zoomcamp-model/mlops-3.10.0-slim/images/sha256-595bf690875f5b9075550b61c609be10f05e6915609ef4ea4ce9797116c99eff?context=repo),\n",
    "which you should use as your base image.\n",
    "\n",
    "That is, this is how your Dockerfile should start:\n",
    "\n",
    "```docker\n",
    "FROM svizor/zoomcamp-model:mlops-3.10.0-slim\n",
    "\n",
    "# do stuff here\n",
    "```\n",
    "\n",
    "This image already has a pickle file with a dictionary vectorizer\n",
    "and a model. You will need to use them.\n",
    "\n",
    "Important: don't copy the model to the docker image. You will need\n",
    "to use the pickle file already in the image. \n",
    "\n",
    "Now run the script with docker. What's the mean predicted duration\n",
    "for April 2022? \n",
    "\n",
    "Ans: 12.83"
   ],
   "metadata": {
    "collapsed": false
   },
   "id": "41338a9c89a0e579"
  },
  {
   "cell_type": "code",
   "execution_count": null,
   "outputs": [],
   "source": [
    "!docker build . -t 04-homework:1.0.0"
   ],
   "metadata": {
    "collapsed": false
   },
   "id": "d51dbb4c004cb347"
  },
  {
   "cell_type": "code",
   "execution_count": null,
   "outputs": [],
   "source": [
    "!docker run \\\n",
    "    -v /mnt/c/Users/Jiet_Mao_Lim/IdeaProjects/epam_learn/mlops-zoomcamp/homeworks/data:/app/data \\\n",
    "    -v /mnt/c/Users/Jiet_Mao_Lim/IdeaProjects/epam_learn/mlops-zoomcamp/homeworks/output:/app/output \\\n",
    "    04-homework:1.0.0 2022 4"
   ],
   "metadata": {
    "collapsed": false
   },
   "id": "5b356d0619f45220"
  }
 ],
 "metadata": {
  "kernelspec": {
   "display_name": "Python 3",
   "language": "python",
   "name": "python3"
  },
  "language_info": {
   "codemirror_mode": {
    "name": "ipython",
    "version": 2
   },
   "file_extension": ".py",
   "mimetype": "text/x-python",
   "name": "python",
   "nbconvert_exporter": "python",
   "pygments_lexer": "ipython2",
   "version": "2.7.6"
  }
 },
 "nbformat": 4,
 "nbformat_minor": 5
}
