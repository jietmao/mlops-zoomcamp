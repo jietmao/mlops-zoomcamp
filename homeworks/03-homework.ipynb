{
 "cells": [
  {
   "cell_type": "markdown",
   "source": [
    "#### Q1. Human-readable name\n",
    "\n",
    "You’d like to give the first task, `read_data` a nicely formatted name.\n",
    "How can you specify a task name?\n",
    "\n",
    "> Hint: look in the docs at https://docs.prefect.io or\n",
    "> check out the doc string in a code editor.\n",
    "\n",
    "Ans: `@task(retries=3, retry_delay_seconds=2, name=\"Read taxi data\")`"
   ],
   "metadata": {
    "collapsed": false
   },
   "id": "ca78aa2987dd8859"
  },
  {
   "cell_type": "code",
   "execution_count": null,
   "outputs": [],
   "source": [],
   "metadata": {
    "collapsed": false
   },
   "id": "9b5274cf2d935b32"
  },
  {
   "cell_type": "markdown",
   "source": [
    "#### Q2. Cron\n",
    "\n",
    "Cron is a common scheduling specification for workflows.\n",
    "\n",
    "Using the flow in `orchestrate.py`, create a deployment.\n",
    "Schedule your deployment to run on the third day of every month at 9am UTC.\n",
    "What’s the cron schedule for that?\n",
    "\n",
    "Ans: `0 9 3 * *`"
   ],
   "metadata": {
    "collapsed": false
   },
   "id": "7f1beff535d50dc6"
  },
  {
   "cell_type": "code",
   "execution_count": 1,
   "outputs": [
    {
     "name": "stdout",
     "output_type": "stream",
     "text": [
      "^C\n"
     ]
    }
   ],
   "source": [
    "!prefect init"
   ],
   "metadata": {
    "collapsed": false,
    "ExecuteTime": {
     "end_time": "2024-04-08T04:45:52.810718900Z",
     "start_time": "2024-04-08T04:43:57.831185900Z"
    }
   },
   "id": "736af71485274722"
  },
  {
   "cell_type": "code",
   "execution_count": 3,
   "outputs": [
    {
     "name": "stdout",
     "output_type": "stream",
     "text": [
      "Created work pool 'local-work'!\n",
      "\n",
      "To start a worker for this work pool, run:\n",
      "\n",
      "        prefect worker start --pool local-work\n"
     ]
    }
   ],
   "source": [
    "!prefect work-pool create local-work --type process"
   ],
   "metadata": {
    "collapsed": false,
    "ExecuteTime": {
     "end_time": "2024-04-08T05:28:23.662978300Z",
     "start_time": "2024-04-08T05:28:18.423185200Z"
    }
   },
   "id": "5377dbee8dae9b88"
  },
  {
   "cell_type": "code",
   "execution_count": 4,
   "outputs": [
    {
     "name": "stdout",
     "output_type": "stream",
     "text": [
      "^C\n"
     ]
    }
   ],
   "source": [
    "!prefect deploy 03-orchestration\\3.4\\orchestrate.py:main_flow -n taxi -p local-work"
   ],
   "metadata": {
    "collapsed": false,
    "ExecuteTime": {
     "end_time": "2024-04-08T05:33:55.965302200Z",
     "start_time": "2024-04-08T05:32:59.160150100Z"
    }
   },
   "id": "91e124f159566eb3"
  },
  {
   "cell_type": "markdown",
   "source": [
    "#### Q3. RMSE\n",
    "\n",
    "Download the January 2023 Green Taxi data and use it for your training data.\n",
    "Download the February 2023 Green Taxi data and use it for your validation data.\n",
    "\n",
    "Make sure you upload the data to GitHub so it is available for your deployment.\n",
    "\n",
    "Create a custom flow run of your deployment from the UI. Choose Custom\n",
    "Run for the flow and enter the file path as a string on the JSON tab under Parameters.\n",
    "\n",
    "Make sure you have a worker running and polling the correct work pool.\n",
    "\n",
    "View the results in the UI.\n",
    "\n",
    "What’s the final RMSE to five decimal places?\n",
    "\n",
    "Ans: 5.19931"
   ],
   "metadata": {
    "collapsed": false
   },
   "id": "5160d0f837107442"
  },
  {
   "cell_type": "code",
   "execution_count": 5,
   "outputs": [
    {
     "name": "stdout",
     "output_type": "stream",
     "text": [
      "^C\n"
     ]
    }
   ],
   "source": [
    "!prefect worker start --pool local-work"
   ],
   "metadata": {
    "collapsed": false,
    "ExecuteTime": {
     "end_time": "2024-04-08T05:46:38.081950800Z",
     "start_time": "2024-04-08T05:43:55.967075200Z"
    }
   },
   "id": "b135cd8e1d761478"
  },
  {
   "cell_type": "markdown",
   "source": [
    "#### Q4. RMSE (Markdown Artifact)\n",
    "\n",
    "Download the February 2023 Green Taxi data and use it for your training data.\n",
    "Download the March 2023 Green Taxi data and use it for your validation data.\n",
    "\n",
    "Create a Prefect Markdown artifact that displays the RMSE for the validation data.\n",
    "Create a deployment and run it.\n",
    "\n",
    "What’s the RMSE in the artifact to two decimal places ?\n",
    "\n",
    "Ans: 5.37"
   ],
   "metadata": {
    "collapsed": false
   },
   "id": "8bdb0ec072b59c5f"
  },
  {
   "cell_type": "code",
   "execution_count": null,
   "outputs": [],
   "source": [],
   "metadata": {
    "collapsed": false
   },
   "id": "ca041151c9b4fa9d"
  },
  {
   "cell_type": "markdown",
   "source": [
    "#### Q5. Emails\n",
    "\n",
    "\n",
    "It’s often helpful to be notified when something with your dataflow doesn’t work\n",
    "as planned. Create an email notification for to use with your own Prefect server instance.\n",
    "In your virtual environment, install the prefect-email integration with\n",
    "\n",
    "```bash\n",
    "pip install prefect-email\n",
    "```\n",
    "\n",
    "Make sure you are connected to a running Prefect server instance through your\n",
    "Prefect profile.\n",
    "See the docs if needed: https://docs.prefect.io/latest/concepts/settings/#configuration-profiles\n",
    "\n",
    "Register the new block with your server with\n",
    "\n",
    "```bash\n",
    "prefect block register -m prefect_email\n",
    "```\n",
    "\n",
    "Remember that a block is a Prefect class with a nice UI form interface.\n",
    "Block objects live on the server and can be created and accessed in your Python code.\n",
    "\n",
    "See the docs for how to authenticate by saving your email credentials to\n",
    "a block and note that you will need an App Password to send emails with\n",
    "Gmail and other services. Follow the instructions in the docs.\n",
    "\n",
    "Create and save an `EmailServerCredentials` notification block.\n",
    "Use the credentials block to send an email.\n",
    "\n",
    "Test the notification functionality by running a deployment.\n",
    "\n",
    "What is the name of the pre-built prefect-email task function?\n",
    "\n",
    "Ans: `email_send_message`"
   ],
   "metadata": {
    "collapsed": false
   },
   "id": "19e4642a66b451ee"
  },
  {
   "cell_type": "code",
   "execution_count": 2,
   "outputs": [
    {
     "name": "stdout",
     "output_type": "stream",
     "text": [
      "Successfully registered 1 block\n",
      "\n",
      "+--------------------------+\n",
      "| Registered Blocks        |\n",
      "|--------------------------|\n",
      "| Email Server Credentials |\n",
      "+--------------------------+\n",
      "\n",
      " To configure the newly registered blocks, go to the Blocks page in the Prefect\n",
      "UI: http://127.0.0.1:4200/blocks/catalog\n"
     ]
    }
   ],
   "source": [
    "!prefect block register -m prefect_email"
   ],
   "metadata": {
    "collapsed": false,
    "ExecuteTime": {
     "end_time": "2024-04-08T05:19:26.225646Z",
     "start_time": "2024-04-08T05:19:21.945660400Z"
    }
   },
   "id": "22e73fcfc3e2d021"
  },
  {
   "cell_type": "code",
   "execution_count": null,
   "outputs": [],
   "source": [
    "from prefect_email import EmailServerCredentials\n",
    "\n",
    "credentials = EmailServerCredentials(\n",
    "    username=\"EMAIL-ADDRESS-PLACEHOLDER\",\n",
    "    password=\"PASSWORD-PLACEHOLDER\",  # must be an app password\n",
    ")\n",
    "credentials.save(\"TEST-EMAIL\")"
   ],
   "metadata": {
    "collapsed": false
   },
   "id": "fac3555aef80683d"
  },
  {
   "cell_type": "markdown",
   "source": [
    "#### Q6. Prefect Cloud\n",
    "\n",
    "The hosted Prefect Cloud lets you avoid running your own Prefect server and\n",
    "has automations that allow you to get notifications when certain events occur\n",
    "or don’t occur.\n",
    "\n",
    "Create a free forever Prefect Cloud account at [app.prefect.cloud](https://app.prefect.cloud/) and connect\n",
    "your workspace to it following the steps in the UI when you sign up.\n",
    "\n",
    "Set up an Automation from the UI that will send yourself an email when\n",
    "a flow run completes. Run one of your existing deployments and check\n",
    "your email to see the notification.\n",
    "\n",
    "Make sure your active profile is pointing toward Prefect Cloud and\n",
    "make sure you have a worker active.\n",
    "\n",
    "What is the name of the second step in the Automation creation process?\n",
    "\n",
    "Ans: Actions"
   ],
   "metadata": {
    "collapsed": false
   },
   "id": "5398f515e2d156d0"
  },
  {
   "cell_type": "code",
   "execution_count": null,
   "outputs": [],
   "source": [],
   "metadata": {
    "collapsed": false
   },
   "id": "4acf72163d08e0ea"
  }
 ],
 "metadata": {
  "kernelspec": {
   "display_name": "Python 3",
   "language": "python",
   "name": "python3"
  },
  "language_info": {
   "codemirror_mode": {
    "name": "ipython",
    "version": 2
   },
   "file_extension": ".py",
   "mimetype": "text/x-python",
   "name": "python",
   "nbconvert_exporter": "python",
   "pygments_lexer": "ipython2",
   "version": "2.7.6"
  }
 },
 "nbformat": 4,
 "nbformat_minor": 5
}
