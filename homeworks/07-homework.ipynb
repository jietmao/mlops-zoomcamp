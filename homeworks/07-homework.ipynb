{
 "cells": [
  {
   "cell_type": "code",
   "execution_count": 1,
   "id": "initial_id",
   "metadata": {
    "collapsed": true,
    "ExecuteTime": {
     "end_time": "2024-04-14T06:50:56.458145Z",
     "start_time": "2024-04-14T06:50:55.070336900Z"
    }
   },
   "outputs": [],
   "source": [
    "import pandas as pd"
   ]
  },
  {
   "cell_type": "code",
   "execution_count": 4,
   "outputs": [],
   "source": [
    "def read_data():\n",
    "    df = pd.read_csv('s3://project-bucket/input/wind_dataset.csv', storage_options={\n",
    "        \"profile\":'localstack'\n",
    "    })\n",
    "    return df"
   ],
   "metadata": {
    "collapsed": false,
    "ExecuteTime": {
     "end_time": "2024-04-14T06:52:10.369834200Z",
     "start_time": "2024-04-14T06:52:10.338450400Z"
    }
   },
   "id": "c1904ad93352be6a"
  },
  {
   "cell_type": "code",
   "execution_count": 5,
   "outputs": [],
   "source": [
    "df = read_data()"
   ],
   "metadata": {
    "collapsed": false,
    "ExecuteTime": {
     "end_time": "2024-04-14T06:52:13.690423500Z",
     "start_time": "2024-04-14T06:52:12.614069700Z"
    }
   },
   "id": "754a0fcd1267ffc5"
  },
  {
   "cell_type": "code",
   "execution_count": 6,
   "outputs": [
    {
     "data": {
      "text/plain": "            DATE   WIND  IND  RAIN  IND.1  T.MAX  IND.2  T.MIN  T.MIN.G\n0     1961-01-01  13.67    0   0.2    0.0    9.5    0.0    3.7     -1.0\n1     1961-01-02  11.50    0   5.1    0.0    7.2    0.0    4.2      1.1\n2     1961-01-03  11.25    0   0.4    0.0    5.5    0.0    0.5     -0.5\n3     1961-01-04   8.63    0   0.2    0.0    5.6    0.0    0.4     -3.2\n4     1961-01-05  11.92    0  10.4    0.0    7.2    1.0   -1.5     -7.5\n...          ...    ...  ...   ...    ...    ...    ...    ...      ...\n6569  1978-12-27  14.46    0  16.8    0.0    9.8    0.0    4.0      0.0\n6570  1978-12-28  14.33    0  16.0    0.0    9.1    0.0    8.5      8.0\n6571  1978-12-29  19.17    0  14.7    0.0    5.0    0.0    3.5      3.2\n6572  1978-12-30  18.08    0   4.9    0.0    2.9    0.0    0.3     -0.5\n6573  1978-12-31  19.25    0   0.5    0.0    1.2    1.0   -1.5     -3.0\n\n[6574 rows x 9 columns]",
      "text/html": "<div>\n<style scoped>\n    .dataframe tbody tr th:only-of-type {\n        vertical-align: middle;\n    }\n\n    .dataframe tbody tr th {\n        vertical-align: top;\n    }\n\n    .dataframe thead th {\n        text-align: right;\n    }\n</style>\n<table border=\"1\" class=\"dataframe\">\n  <thead>\n    <tr style=\"text-align: right;\">\n      <th></th>\n      <th>DATE</th>\n      <th>WIND</th>\n      <th>IND</th>\n      <th>RAIN</th>\n      <th>IND.1</th>\n      <th>T.MAX</th>\n      <th>IND.2</th>\n      <th>T.MIN</th>\n      <th>T.MIN.G</th>\n    </tr>\n  </thead>\n  <tbody>\n    <tr>\n      <th>0</th>\n      <td>1961-01-01</td>\n      <td>13.67</td>\n      <td>0</td>\n      <td>0.2</td>\n      <td>0.0</td>\n      <td>9.5</td>\n      <td>0.0</td>\n      <td>3.7</td>\n      <td>-1.0</td>\n    </tr>\n    <tr>\n      <th>1</th>\n      <td>1961-01-02</td>\n      <td>11.50</td>\n      <td>0</td>\n      <td>5.1</td>\n      <td>0.0</td>\n      <td>7.2</td>\n      <td>0.0</td>\n      <td>4.2</td>\n      <td>1.1</td>\n    </tr>\n    <tr>\n      <th>2</th>\n      <td>1961-01-03</td>\n      <td>11.25</td>\n      <td>0</td>\n      <td>0.4</td>\n      <td>0.0</td>\n      <td>5.5</td>\n      <td>0.0</td>\n      <td>0.5</td>\n      <td>-0.5</td>\n    </tr>\n    <tr>\n      <th>3</th>\n      <td>1961-01-04</td>\n      <td>8.63</td>\n      <td>0</td>\n      <td>0.2</td>\n      <td>0.0</td>\n      <td>5.6</td>\n      <td>0.0</td>\n      <td>0.4</td>\n      <td>-3.2</td>\n    </tr>\n    <tr>\n      <th>4</th>\n      <td>1961-01-05</td>\n      <td>11.92</td>\n      <td>0</td>\n      <td>10.4</td>\n      <td>0.0</td>\n      <td>7.2</td>\n      <td>1.0</td>\n      <td>-1.5</td>\n      <td>-7.5</td>\n    </tr>\n    <tr>\n      <th>...</th>\n      <td>...</td>\n      <td>...</td>\n      <td>...</td>\n      <td>...</td>\n      <td>...</td>\n      <td>...</td>\n      <td>...</td>\n      <td>...</td>\n      <td>...</td>\n    </tr>\n    <tr>\n      <th>6569</th>\n      <td>1978-12-27</td>\n      <td>14.46</td>\n      <td>0</td>\n      <td>16.8</td>\n      <td>0.0</td>\n      <td>9.8</td>\n      <td>0.0</td>\n      <td>4.0</td>\n      <td>0.0</td>\n    </tr>\n    <tr>\n      <th>6570</th>\n      <td>1978-12-28</td>\n      <td>14.33</td>\n      <td>0</td>\n      <td>16.0</td>\n      <td>0.0</td>\n      <td>9.1</td>\n      <td>0.0</td>\n      <td>8.5</td>\n      <td>8.0</td>\n    </tr>\n    <tr>\n      <th>6571</th>\n      <td>1978-12-29</td>\n      <td>19.17</td>\n      <td>0</td>\n      <td>14.7</td>\n      <td>0.0</td>\n      <td>5.0</td>\n      <td>0.0</td>\n      <td>3.5</td>\n      <td>3.2</td>\n    </tr>\n    <tr>\n      <th>6572</th>\n      <td>1978-12-30</td>\n      <td>18.08</td>\n      <td>0</td>\n      <td>4.9</td>\n      <td>0.0</td>\n      <td>2.9</td>\n      <td>0.0</td>\n      <td>0.3</td>\n      <td>-0.5</td>\n    </tr>\n    <tr>\n      <th>6573</th>\n      <td>1978-12-31</td>\n      <td>19.25</td>\n      <td>0</td>\n      <td>0.5</td>\n      <td>0.0</td>\n      <td>1.2</td>\n      <td>1.0</td>\n      <td>-1.5</td>\n      <td>-3.0</td>\n    </tr>\n  </tbody>\n</table>\n<p>6574 rows × 9 columns</p>\n</div>"
     },
     "execution_count": 6,
     "metadata": {},
     "output_type": "execute_result"
    }
   ],
   "source": [
    "df"
   ],
   "metadata": {
    "collapsed": false,
    "ExecuteTime": {
     "end_time": "2024-04-14T06:52:15.279150700Z",
     "start_time": "2024-04-14T06:52:15.224921500Z"
    }
   },
   "id": "5b030df1f411268e"
  },
  {
   "cell_type": "code",
   "execution_count": 7,
   "outputs": [
    {
     "name": "stdout",
     "output_type": "stream",
     "text": [
      "<class 'pandas.core.frame.DataFrame'>\n",
      "RangeIndex: 6574 entries, 0 to 6573\n",
      "Data columns (total 9 columns):\n",
      " #   Column   Non-Null Count  Dtype  \n",
      "---  ------   --------------  -----  \n",
      " 0   DATE     6574 non-null   object \n",
      " 1   WIND     6574 non-null   float64\n",
      " 2   IND      6574 non-null   int64  \n",
      " 3   RAIN     6574 non-null   float64\n",
      " 4   IND.1    6513 non-null   float64\n",
      " 5   T.MAX    5953 non-null   float64\n",
      " 6   IND.2    6513 non-null   float64\n",
      " 7   T.MIN    5900 non-null   float64\n",
      " 8   T.MIN.G  6214 non-null   float64\n",
      "dtypes: float64(7), int64(1), object(1)\n",
      "memory usage: 462.4+ KB\n"
     ]
    }
   ],
   "source": [
    "df.info()"
   ],
   "metadata": {
    "collapsed": false,
    "ExecuteTime": {
     "end_time": "2024-04-14T06:52:32.606691700Z",
     "start_time": "2024-04-14T06:52:32.540431500Z"
    }
   },
   "id": "85c8278ff0c7ca7"
  },
  {
   "cell_type": "code",
   "execution_count": 14,
   "outputs": [
    {
     "data": {
      "text/plain": "T.MAX\n-0.1       1\n 0.0       1\n 0.8       1\n 1.0       1\n 1.1       1\n        ... \n 25.8      1\n 26.0      1\n 26.3      1\n 26.8      1\n NaN     621\nName: DATE, Length: 247, dtype: int64"
     },
     "execution_count": 14,
     "metadata": {},
     "output_type": "execute_result"
    }
   ],
   "source": [
    "df.groupby('T.MAX', dropna=False)['DATE'].count()"
   ],
   "metadata": {
    "collapsed": false,
    "ExecuteTime": {
     "end_time": "2024-04-14T06:55:40.270319600Z",
     "start_time": "2024-04-14T06:55:40.239013700Z"
    }
   },
   "id": "4d3247785967dd82"
  },
  {
   "cell_type": "code",
   "execution_count": 21,
   "outputs": [],
   "source": [
    "df['month'] = pd.to_datetime(df['DATE']).dt.month.astype(str)\n",
    "df['day'] = pd.to_datetime(df['DATE']).dt.day.astype(str)"
   ],
   "metadata": {
    "collapsed": false,
    "ExecuteTime": {
     "end_time": "2024-04-14T07:07:24.577006500Z",
     "start_time": "2024-04-14T07:07:24.523970600Z"
    }
   },
   "id": "74bd5680e5599e67"
  },
  {
   "cell_type": "code",
   "execution_count": 24,
   "outputs": [
    {
     "data": {
      "text/plain": "            DATE   WIND  IND  RAIN  IND.1  T.MAX  IND.2  T.MIN  T.MIN.G month  \\\n730   1963-01-01  23.45    0   0.0    4.0    NaN    4.0    NaN      1.1     1   \n731   1963-01-02  20.75    0   3.9    4.0    NaN    4.0    NaN      0.2     1   \n732   1963-01-03  13.83    0  12.5    4.0    NaN    4.0    NaN      0.2     1   \n733   1963-01-04   8.54    0   6.4    4.0    NaN    4.0    NaN      1.6     1   \n734   1963-01-05  13.08    0   1.2    4.0    NaN    4.0    NaN      1.8     1   \n...          ...    ...  ...   ...    ...    ...    ...    ...      ...   ...   \n3068  1969-05-27   7.62    0   0.4    4.0    NaN    4.0    NaN      NaN     5   \n3071  1969-05-30   8.42    0   0.9    4.0    NaN    4.0    NaN      NaN     5   \n6555  1978-12-13  13.00    0  13.2    4.0    NaN    4.0    NaN      NaN    12   \n6556  1978-12-14   8.83    0   6.4    4.0    NaN    4.0    NaN      NaN    12   \n6557  1978-12-15  12.67    0   0.8    4.0    NaN    4.0    NaN      NaN    12   \n\n     day  \n730    1  \n731    2  \n732    3  \n733    4  \n734    5  \n...   ..  \n3068  27  \n3071  30  \n6555  13  \n6556  14  \n6557  15  \n\n[621 rows x 11 columns]",
      "text/html": "<div>\n<style scoped>\n    .dataframe tbody tr th:only-of-type {\n        vertical-align: middle;\n    }\n\n    .dataframe tbody tr th {\n        vertical-align: top;\n    }\n\n    .dataframe thead th {\n        text-align: right;\n    }\n</style>\n<table border=\"1\" class=\"dataframe\">\n  <thead>\n    <tr style=\"text-align: right;\">\n      <th></th>\n      <th>DATE</th>\n      <th>WIND</th>\n      <th>IND</th>\n      <th>RAIN</th>\n      <th>IND.1</th>\n      <th>T.MAX</th>\n      <th>IND.2</th>\n      <th>T.MIN</th>\n      <th>T.MIN.G</th>\n      <th>month</th>\n      <th>day</th>\n    </tr>\n  </thead>\n  <tbody>\n    <tr>\n      <th>730</th>\n      <td>1963-01-01</td>\n      <td>23.45</td>\n      <td>0</td>\n      <td>0.0</td>\n      <td>4.0</td>\n      <td>NaN</td>\n      <td>4.0</td>\n      <td>NaN</td>\n      <td>1.1</td>\n      <td>1</td>\n      <td>1</td>\n    </tr>\n    <tr>\n      <th>731</th>\n      <td>1963-01-02</td>\n      <td>20.75</td>\n      <td>0</td>\n      <td>3.9</td>\n      <td>4.0</td>\n      <td>NaN</td>\n      <td>4.0</td>\n      <td>NaN</td>\n      <td>0.2</td>\n      <td>1</td>\n      <td>2</td>\n    </tr>\n    <tr>\n      <th>732</th>\n      <td>1963-01-03</td>\n      <td>13.83</td>\n      <td>0</td>\n      <td>12.5</td>\n      <td>4.0</td>\n      <td>NaN</td>\n      <td>4.0</td>\n      <td>NaN</td>\n      <td>0.2</td>\n      <td>1</td>\n      <td>3</td>\n    </tr>\n    <tr>\n      <th>733</th>\n      <td>1963-01-04</td>\n      <td>8.54</td>\n      <td>0</td>\n      <td>6.4</td>\n      <td>4.0</td>\n      <td>NaN</td>\n      <td>4.0</td>\n      <td>NaN</td>\n      <td>1.6</td>\n      <td>1</td>\n      <td>4</td>\n    </tr>\n    <tr>\n      <th>734</th>\n      <td>1963-01-05</td>\n      <td>13.08</td>\n      <td>0</td>\n      <td>1.2</td>\n      <td>4.0</td>\n      <td>NaN</td>\n      <td>4.0</td>\n      <td>NaN</td>\n      <td>1.8</td>\n      <td>1</td>\n      <td>5</td>\n    </tr>\n    <tr>\n      <th>...</th>\n      <td>...</td>\n      <td>...</td>\n      <td>...</td>\n      <td>...</td>\n      <td>...</td>\n      <td>...</td>\n      <td>...</td>\n      <td>...</td>\n      <td>...</td>\n      <td>...</td>\n      <td>...</td>\n    </tr>\n    <tr>\n      <th>3068</th>\n      <td>1969-05-27</td>\n      <td>7.62</td>\n      <td>0</td>\n      <td>0.4</td>\n      <td>4.0</td>\n      <td>NaN</td>\n      <td>4.0</td>\n      <td>NaN</td>\n      <td>NaN</td>\n      <td>5</td>\n      <td>27</td>\n    </tr>\n    <tr>\n      <th>3071</th>\n      <td>1969-05-30</td>\n      <td>8.42</td>\n      <td>0</td>\n      <td>0.9</td>\n      <td>4.0</td>\n      <td>NaN</td>\n      <td>4.0</td>\n      <td>NaN</td>\n      <td>NaN</td>\n      <td>5</td>\n      <td>30</td>\n    </tr>\n    <tr>\n      <th>6555</th>\n      <td>1978-12-13</td>\n      <td>13.00</td>\n      <td>0</td>\n      <td>13.2</td>\n      <td>4.0</td>\n      <td>NaN</td>\n      <td>4.0</td>\n      <td>NaN</td>\n      <td>NaN</td>\n      <td>12</td>\n      <td>13</td>\n    </tr>\n    <tr>\n      <th>6556</th>\n      <td>1978-12-14</td>\n      <td>8.83</td>\n      <td>0</td>\n      <td>6.4</td>\n      <td>4.0</td>\n      <td>NaN</td>\n      <td>4.0</td>\n      <td>NaN</td>\n      <td>NaN</td>\n      <td>12</td>\n      <td>14</td>\n    </tr>\n    <tr>\n      <th>6557</th>\n      <td>1978-12-15</td>\n      <td>12.67</td>\n      <td>0</td>\n      <td>0.8</td>\n      <td>4.0</td>\n      <td>NaN</td>\n      <td>4.0</td>\n      <td>NaN</td>\n      <td>NaN</td>\n      <td>12</td>\n      <td>15</td>\n    </tr>\n  </tbody>\n</table>\n<p>621 rows × 11 columns</p>\n</div>"
     },
     "execution_count": 24,
     "metadata": {},
     "output_type": "execute_result"
    }
   ],
   "source": [
    "df[df['T.MAX'].isna()]"
   ],
   "metadata": {
    "collapsed": false,
    "ExecuteTime": {
     "end_time": "2024-04-14T07:11:09.728555700Z",
     "start_time": "2024-04-14T07:11:09.642252Z"
    }
   },
   "id": "3ae3ed780b6fb65d"
  },
  {
   "cell_type": "code",
   "execution_count": 25,
   "outputs": [],
   "source": [
    "df.dropna(inplace=True)"
   ],
   "metadata": {
    "collapsed": false,
    "ExecuteTime": {
     "end_time": "2024-04-14T07:36:28.012761Z",
     "start_time": "2024-04-14T07:36:27.965727800Z"
    }
   },
   "id": "c4fd5dab12d0a832"
  },
  {
   "cell_type": "code",
   "execution_count": 26,
   "outputs": [
    {
     "data": {
      "text/plain": "            DATE   WIND  IND  RAIN  IND.1  T.MAX  IND.2  T.MIN  T.MIN.G month  \\\n0     1961-01-01  13.67    0   0.2    0.0    9.5    0.0    3.7     -1.0     1   \n1     1961-01-02  11.50    0   5.1    0.0    7.2    0.0    4.2      1.1     1   \n2     1961-01-03  11.25    0   0.4    0.0    5.5    0.0    0.5     -0.5     1   \n3     1961-01-04   8.63    0   0.2    0.0    5.6    0.0    0.4     -3.2     1   \n4     1961-01-05  11.92    0  10.4    0.0    7.2    1.0   -1.5     -7.5     1   \n...          ...    ...  ...   ...    ...    ...    ...    ...      ...   ...   \n6569  1978-12-27  14.46    0  16.8    0.0    9.8    0.0    4.0      0.0    12   \n6570  1978-12-28  14.33    0  16.0    0.0    9.1    0.0    8.5      8.0    12   \n6571  1978-12-29  19.17    0  14.7    0.0    5.0    0.0    3.5      3.2    12   \n6572  1978-12-30  18.08    0   4.9    0.0    2.9    0.0    0.3     -0.5    12   \n6573  1978-12-31  19.25    0   0.5    0.0    1.2    1.0   -1.5     -3.0    12   \n\n     day  \n0      1  \n1      2  \n2      3  \n3      4  \n4      5  \n...   ..  \n6569  27  \n6570  28  \n6571  29  \n6572  30  \n6573  31  \n\n[5638 rows x 11 columns]",
      "text/html": "<div>\n<style scoped>\n    .dataframe tbody tr th:only-of-type {\n        vertical-align: middle;\n    }\n\n    .dataframe tbody tr th {\n        vertical-align: top;\n    }\n\n    .dataframe thead th {\n        text-align: right;\n    }\n</style>\n<table border=\"1\" class=\"dataframe\">\n  <thead>\n    <tr style=\"text-align: right;\">\n      <th></th>\n      <th>DATE</th>\n      <th>WIND</th>\n      <th>IND</th>\n      <th>RAIN</th>\n      <th>IND.1</th>\n      <th>T.MAX</th>\n      <th>IND.2</th>\n      <th>T.MIN</th>\n      <th>T.MIN.G</th>\n      <th>month</th>\n      <th>day</th>\n    </tr>\n  </thead>\n  <tbody>\n    <tr>\n      <th>0</th>\n      <td>1961-01-01</td>\n      <td>13.67</td>\n      <td>0</td>\n      <td>0.2</td>\n      <td>0.0</td>\n      <td>9.5</td>\n      <td>0.0</td>\n      <td>3.7</td>\n      <td>-1.0</td>\n      <td>1</td>\n      <td>1</td>\n    </tr>\n    <tr>\n      <th>1</th>\n      <td>1961-01-02</td>\n      <td>11.50</td>\n      <td>0</td>\n      <td>5.1</td>\n      <td>0.0</td>\n      <td>7.2</td>\n      <td>0.0</td>\n      <td>4.2</td>\n      <td>1.1</td>\n      <td>1</td>\n      <td>2</td>\n    </tr>\n    <tr>\n      <th>2</th>\n      <td>1961-01-03</td>\n      <td>11.25</td>\n      <td>0</td>\n      <td>0.4</td>\n      <td>0.0</td>\n      <td>5.5</td>\n      <td>0.0</td>\n      <td>0.5</td>\n      <td>-0.5</td>\n      <td>1</td>\n      <td>3</td>\n    </tr>\n    <tr>\n      <th>3</th>\n      <td>1961-01-04</td>\n      <td>8.63</td>\n      <td>0</td>\n      <td>0.2</td>\n      <td>0.0</td>\n      <td>5.6</td>\n      <td>0.0</td>\n      <td>0.4</td>\n      <td>-3.2</td>\n      <td>1</td>\n      <td>4</td>\n    </tr>\n    <tr>\n      <th>4</th>\n      <td>1961-01-05</td>\n      <td>11.92</td>\n      <td>0</td>\n      <td>10.4</td>\n      <td>0.0</td>\n      <td>7.2</td>\n      <td>1.0</td>\n      <td>-1.5</td>\n      <td>-7.5</td>\n      <td>1</td>\n      <td>5</td>\n    </tr>\n    <tr>\n      <th>...</th>\n      <td>...</td>\n      <td>...</td>\n      <td>...</td>\n      <td>...</td>\n      <td>...</td>\n      <td>...</td>\n      <td>...</td>\n      <td>...</td>\n      <td>...</td>\n      <td>...</td>\n      <td>...</td>\n    </tr>\n    <tr>\n      <th>6569</th>\n      <td>1978-12-27</td>\n      <td>14.46</td>\n      <td>0</td>\n      <td>16.8</td>\n      <td>0.0</td>\n      <td>9.8</td>\n      <td>0.0</td>\n      <td>4.0</td>\n      <td>0.0</td>\n      <td>12</td>\n      <td>27</td>\n    </tr>\n    <tr>\n      <th>6570</th>\n      <td>1978-12-28</td>\n      <td>14.33</td>\n      <td>0</td>\n      <td>16.0</td>\n      <td>0.0</td>\n      <td>9.1</td>\n      <td>0.0</td>\n      <td>8.5</td>\n      <td>8.0</td>\n      <td>12</td>\n      <td>28</td>\n    </tr>\n    <tr>\n      <th>6571</th>\n      <td>1978-12-29</td>\n      <td>19.17</td>\n      <td>0</td>\n      <td>14.7</td>\n      <td>0.0</td>\n      <td>5.0</td>\n      <td>0.0</td>\n      <td>3.5</td>\n      <td>3.2</td>\n      <td>12</td>\n      <td>29</td>\n    </tr>\n    <tr>\n      <th>6572</th>\n      <td>1978-12-30</td>\n      <td>18.08</td>\n      <td>0</td>\n      <td>4.9</td>\n      <td>0.0</td>\n      <td>2.9</td>\n      <td>0.0</td>\n      <td>0.3</td>\n      <td>-0.5</td>\n      <td>12</td>\n      <td>30</td>\n    </tr>\n    <tr>\n      <th>6573</th>\n      <td>1978-12-31</td>\n      <td>19.25</td>\n      <td>0</td>\n      <td>0.5</td>\n      <td>0.0</td>\n      <td>1.2</td>\n      <td>1.0</td>\n      <td>-1.5</td>\n      <td>-3.0</td>\n      <td>12</td>\n      <td>31</td>\n    </tr>\n  </tbody>\n</table>\n<p>5638 rows × 11 columns</p>\n</div>"
     },
     "execution_count": 26,
     "metadata": {},
     "output_type": "execute_result"
    }
   ],
   "source": [
    "df"
   ],
   "metadata": {
    "collapsed": false,
    "ExecuteTime": {
     "end_time": "2024-04-14T07:36:31.299646900Z",
     "start_time": "2024-04-14T07:36:31.232060900Z"
    }
   },
   "id": "57d05f9e2d159cae"
  },
  {
   "cell_type": "code",
   "execution_count": null,
   "outputs": [],
   "source": [],
   "metadata": {
    "collapsed": false
   },
   "id": "d3b9071d3e643134"
  },
  {
   "cell_type": "code",
   "execution_count": null,
   "outputs": [],
   "source": [],
   "metadata": {
    "collapsed": false
   },
   "id": "12531574b3daeef0"
  },
  {
   "cell_type": "code",
   "execution_count": null,
   "outputs": [],
   "source": [],
   "metadata": {
    "collapsed": false
   },
   "id": "574839d6686490fc"
  }
 ],
 "metadata": {
  "kernelspec": {
   "display_name": "Python 3",
   "language": "python",
   "name": "python3"
  },
  "language_info": {
   "codemirror_mode": {
    "name": "ipython",
    "version": 2
   },
   "file_extension": ".py",
   "mimetype": "text/x-python",
   "name": "python",
   "nbconvert_exporter": "python",
   "pygments_lexer": "ipython2",
   "version": "2.7.6"
  }
 },
 "nbformat": 4,
 "nbformat_minor": 5
}
