{
 "cells": [
  {
   "cell_type": "code",
   "execution_count": 1,
   "id": "initial_id",
   "metadata": {
    "collapsed": true,
    "ExecuteTime": {
     "end_time": "2024-04-08T06:55:11.516962400Z",
     "start_time": "2024-04-08T06:55:11.498665800Z"
    }
   },
   "outputs": [],
   "source": [
    "import pandas as pd"
   ]
  },
  {
   "cell_type": "markdown",
   "source": [
    "#### Q1. Downloading the data\n",
    "We'll use the same NYC taxi dataset, but instead of \"Green Taxi Trip Records\", we'll use \"Yellow Taxi Trip Records\".\n",
    "\n",
    "Download the data for January and February 2022.\n",
    "\n",
    "Read the data for January. How many columns are there?\n",
    "\n",
    "Ans: 19"
   ],
   "metadata": {
    "collapsed": false
   },
   "id": "2fcf4b4686ffcac9"
  },
  {
   "cell_type": "code",
   "execution_count": 2,
   "outputs": [],
   "source": [
    "jan_2022_df = pd.read_parquet('./data/yellow_tripdata_2022-01.parquet')\n",
    "feb_2022_df = pd.read_parquet('./data/yellow_tripdata_2022-02.parquet')"
   ],
   "metadata": {
    "collapsed": false,
    "ExecuteTime": {
     "end_time": "2024-04-08T06:55:15.074393800Z",
     "start_time": "2024-04-08T06:55:14.342342900Z"
    }
   },
   "id": "1b6a42d15401d573"
  },
  {
   "cell_type": "code",
   "execution_count": 3,
   "outputs": [
    {
     "name": "stdout",
     "output_type": "stream",
     "text": [
      "Jan 2022 dataset's columns count is 19\n",
      "Feb 2022 dataset's columns count is 19\n"
     ]
    }
   ],
   "source": [
    "print(f\"Jan 2022 dataset's columns count is {len(jan_2022_df.columns)}\")\n",
    "print(f\"Feb 2022 dataset's columns count is {len(feb_2022_df.columns)}\")"
   ],
   "metadata": {
    "collapsed": false,
    "ExecuteTime": {
     "end_time": "2024-04-08T06:55:16.403984200Z",
     "start_time": "2024-04-08T06:55:16.388237900Z"
    }
   },
   "id": "cf5df8dca04c3d7c"
  },
  {
   "cell_type": "markdown",
   "source": [
    "#### Q2. Computing duration\n",
    "Now let's compute the `duration` variable. It should contain the duration of a ride in minutes.\n",
    "\n",
    "What's the standard deviation of the trips duration in January?\n",
    "\n",
    "Ans: 46.45"
   ],
   "metadata": {
    "collapsed": false
   },
   "id": "a03a2190e7c1a63f"
  },
  {
   "cell_type": "code",
   "execution_count": 4,
   "outputs": [],
   "source": [
    "jan_2022_df['duration'] = (jan_2022_df['tpep_dropoff_datetime'] - jan_2022_df['tpep_pickup_datetime']) / pd.Timedelta(minutes=1)\n",
    "feb_2022_df['duration'] = (feb_2022_df['tpep_dropoff_datetime'] - feb_2022_df['tpep_pickup_datetime']) / pd.Timedelta(minutes=1)"
   ],
   "metadata": {
    "collapsed": false,
    "ExecuteTime": {
     "end_time": "2024-04-08T06:55:18.897492400Z",
     "start_time": "2024-04-08T06:55:18.787834200Z"
    }
   },
   "id": "7f9c9aed9a04a95a"
  },
  {
   "cell_type": "code",
   "execution_count": 5,
   "outputs": [
    {
     "data": {
      "text/plain": "46.44530513776802"
     },
     "execution_count": 5,
     "metadata": {},
     "output_type": "execute_result"
    }
   ],
   "source": [
    "jan_2022_df['duration'].std()"
   ],
   "metadata": {
    "collapsed": false,
    "ExecuteTime": {
     "end_time": "2024-04-08T06:55:20.644896200Z",
     "start_time": "2024-04-08T06:55:20.593375900Z"
    }
   },
   "id": "d8b314bd99fa4dd6"
  },
  {
   "cell_type": "code",
   "execution_count": 6,
   "outputs": [
    {
     "data": {
      "text/plain": "47.26394076778834"
     },
     "execution_count": 6,
     "metadata": {},
     "output_type": "execute_result"
    }
   ],
   "source": [
    "feb_2022_df['duration'].std()"
   ],
   "metadata": {
    "collapsed": false,
    "ExecuteTime": {
     "end_time": "2024-04-08T06:55:22.167439300Z",
     "start_time": "2024-04-08T06:55:22.120337500Z"
    }
   },
   "id": "3f8b6b16225ebd5b"
  },
  {
   "cell_type": "markdown",
   "source": [
    "#### Q3. Dropping outliers\n",
    "Next, we need to check the distribution of the `duration` variable. There are some outliers. Let's remove them and keep only the records where the duration was between 1 and 60 minutes (inclusive).\n",
    "\n",
    "What fraction of the records left after you dropped the outliers?\n",
    "\n",
    "Ans: 98%"
   ],
   "metadata": {
    "collapsed": false
   },
   "id": "b15fe84ba83843dd"
  },
  {
   "cell_type": "code",
   "execution_count": 7,
   "outputs": [],
   "source": [
    "def trip_duration_between_1_to_60_mins(df):\n",
    "    return df['duration'].between(1, 60, inclusive='both')\n",
    "\n",
    "jan_2022_cleaned_df = jan_2022_df[trip_duration_between_1_to_60_mins(jan_2022_df)]\n",
    "feb_2022_cleaned_df = feb_2022_df[trip_duration_between_1_to_60_mins(feb_2022_df)]"
   ],
   "metadata": {
    "collapsed": false,
    "ExecuteTime": {
     "end_time": "2024-04-08T06:55:25.283508200Z",
     "start_time": "2024-04-08T06:55:24.769933700Z"
    }
   },
   "id": "4851fa376c69cb02"
  },
  {
   "cell_type": "code",
   "execution_count": 8,
   "outputs": [
    {
     "data": {
      "text/plain": "0.9827547930522406"
     },
     "execution_count": 8,
     "metadata": {},
     "output_type": "execute_result"
    }
   ],
   "source": [
    "len(jan_2022_cleaned_df) / len(jan_2022_df)"
   ],
   "metadata": {
    "collapsed": false,
    "ExecuteTime": {
     "end_time": "2024-04-08T06:55:26.508203600Z",
     "start_time": "2024-04-08T06:55:26.492471600Z"
    }
   },
   "id": "2acfc267c525326"
  },
  {
   "cell_type": "code",
   "execution_count": 9,
   "outputs": [
    {
     "data": {
      "text/plain": "0.979444397269143"
     },
     "execution_count": 9,
     "metadata": {},
     "output_type": "execute_result"
    }
   ],
   "source": [
    "len(feb_2022_cleaned_df) / len(feb_2022_df)"
   ],
   "metadata": {
    "collapsed": false,
    "ExecuteTime": {
     "end_time": "2024-04-08T06:55:27.717098Z",
     "start_time": "2024-04-08T06:55:27.701488200Z"
    }
   },
   "id": "33ce8f1f069d105b"
  },
  {
   "cell_type": "markdown",
   "source": [
    "#### Q4. One-hot encoding\n",
    "Let's apply one-hot encoding to the pickup and dropoff location IDs. We'll use only these two features for our model.\n",
    "\n",
    "* Turn the dataframe into a list of dictionaries\n",
    "* Fit a dictionary vectorizer\n",
    "* Get a feature matrix from it\n",
    "\n",
    "What's the dimensionality of this matrix (number of columns)?\n",
    "\n",
    "Ans: 515"
   ],
   "metadata": {
    "collapsed": false
   },
   "id": "366285eef5815f97"
  },
  {
   "cell_type": "code",
   "execution_count": 10,
   "outputs": [],
   "source": [
    "from sklearn.feature_extraction import DictVectorizer\n",
    "\n",
    "feature_columns = ['PULocationID', 'DOLocationID']\n",
    "jan_2022_feature_dict =  jan_2022_cleaned_df[feature_columns].astype(str).to_dict(orient='records')\n",
    "feb_2022_feature_dict =  feb_2022_cleaned_df[feature_columns].astype(str).to_dict(orient='records')\n",
    "\n",
    "dv = DictVectorizer()\n",
    "\n",
    "jan_2022_feature_vector = dv.fit_transform(jan_2022_feature_dict)\n",
    "feb_2022_feature_vector = dv.transform(feb_2022_feature_dict)"
   ],
   "metadata": {
    "collapsed": false,
    "ExecuteTime": {
     "end_time": "2024-04-08T06:55:49.256635900Z",
     "start_time": "2024-04-08T06:55:30.315721800Z"
    }
   },
   "id": "65e4b944fc5ac7fa"
  },
  {
   "cell_type": "code",
   "execution_count": 11,
   "outputs": [
    {
     "data": {
      "text/plain": "array([[0., 0., 0., ..., 0., 0., 0.],\n       [0., 0., 0., ..., 0., 0., 0.],\n       [0., 0., 0., ..., 0., 0., 0.],\n       ...,\n       [0., 0., 0., ..., 0., 0., 0.],\n       [0., 0., 0., ..., 0., 0., 0.],\n       [0., 0., 0., ..., 0., 0., 0.]])"
     },
     "execution_count": 11,
     "metadata": {},
     "output_type": "execute_result"
    }
   ],
   "source": [
    "jan_2022_feature_vector.toarray()"
   ],
   "metadata": {
    "collapsed": false,
    "ExecuteTime": {
     "end_time": "2024-04-08T06:55:58.458400200Z",
     "start_time": "2024-04-08T06:55:56.877806700Z"
    }
   },
   "id": "1039f3dc2ad2cc1c"
  },
  {
   "cell_type": "code",
   "execution_count": 12,
   "outputs": [
    {
     "data": {
      "text/plain": "array([[0., 0., 0., ..., 0., 0., 0.],\n       [0., 0., 0., ..., 0., 0., 0.],\n       [0., 0., 0., ..., 0., 0., 0.],\n       ...,\n       [0., 0., 0., ..., 0., 0., 0.],\n       [0., 0., 0., ..., 0., 0., 0.],\n       [0., 0., 0., ..., 0., 0., 0.]])"
     },
     "execution_count": 12,
     "metadata": {},
     "output_type": "execute_result"
    }
   ],
   "source": [
    "feb_2022_feature_vector.toarray()"
   ],
   "metadata": {
    "collapsed": false,
    "ExecuteTime": {
     "end_time": "2024-04-08T06:56:22.253884800Z",
     "start_time": "2024-04-08T06:55:59.475181100Z"
    }
   },
   "id": "c4032ebe794b466c"
  },
  {
   "cell_type": "markdown",
   "source": [
    "#### Q5. Training a model\n",
    "\n",
    "Now let's use the feature matrix from the previous step to train a model.\n",
    "\n",
    "- Train a plain linear regression model with default parameters\n",
    "- Calculate the RMSE of the model on the training data\n",
    "\n",
    "What's the RMSE on train?\n",
    "\n",
    "Ans: 6.99"
   ],
   "metadata": {
    "collapsed": false
   },
   "id": "1d8c2b5fd6ef0454"
  },
  {
   "cell_type": "code",
   "execution_count": 13,
   "outputs": [],
   "source": [
    "label_column = 'duration'\n",
    "jan_2022_label = jan_2022_cleaned_df[label_column].values\n",
    "feb_2022_label = feb_2022_cleaned_df[label_column].values"
   ],
   "metadata": {
    "collapsed": false,
    "ExecuteTime": {
     "end_time": "2024-04-08T06:56:27.497074300Z",
     "start_time": "2024-04-08T06:56:27.450170300Z"
    }
   },
   "id": "b8f8e20f26ca149"
  },
  {
   "cell_type": "code",
   "execution_count": 14,
   "outputs": [],
   "source": [
    "from sklearn.metrics import root_mean_squared_error\n",
    "from sklearn.linear_model import LinearRegression, Lasso, Ridge\n",
    "\n",
    "lr = LinearRegression()\n",
    "lr.fit(jan_2022_feature_vector, jan_2022_label)\n",
    "\n",
    "prediction = lr.predict(jan_2022_feature_vector)\n",
    "\n",
    "rmse = root_mean_squared_error(jan_2022_label, prediction)"
   ],
   "metadata": {
    "collapsed": false,
    "ExecuteTime": {
     "end_time": "2024-04-08T06:56:58.745478300Z",
     "start_time": "2024-04-08T06:56:29.776918900Z"
    }
   },
   "id": "9e5c002e3fa337b1"
  },
  {
   "cell_type": "code",
   "execution_count": 15,
   "outputs": [
    {
     "data": {
      "text/plain": "6.986191236222312"
     },
     "execution_count": 15,
     "metadata": {},
     "output_type": "execute_result"
    }
   ],
   "source": [
    "rmse"
   ],
   "metadata": {
    "collapsed": false,
    "ExecuteTime": {
     "end_time": "2024-04-08T06:57:00.922072Z",
     "start_time": "2024-04-08T06:57:00.906444400Z"
    }
   },
   "id": "647f073e7e2d14e8"
  },
  {
   "cell_type": "markdown",
   "source": [
    "#### Q6. Evaluating the model\n",
    "Now let's apply this model to the validation dataset (February 2022).\n",
    "\n",
    "What's the RMSE on validation?\n",
    "\n",
    "Ans: 7.79"
   ],
   "metadata": {
    "collapsed": false
   },
   "id": "f72c0763f766bc62"
  },
  {
   "cell_type": "code",
   "execution_count": 16,
   "outputs": [],
   "source": [
    "feb_prediction = lr.predict(feb_2022_feature_vector)\n",
    "\n",
    "feb_rmse = root_mean_squared_error(feb_2022_label, feb_prediction)"
   ],
   "metadata": {
    "collapsed": false,
    "ExecuteTime": {
     "end_time": "2024-04-08T06:57:04.526482400Z",
     "start_time": "2024-04-08T06:57:04.403917200Z"
    }
   },
   "id": "16b37eb92fac49f0"
  },
  {
   "cell_type": "code",
   "execution_count": 17,
   "outputs": [
    {
     "data": {
      "text/plain": "7.78641213132457"
     },
     "execution_count": 17,
     "metadata": {},
     "output_type": "execute_result"
    }
   ],
   "source": [
    "feb_rmse"
   ],
   "metadata": {
    "collapsed": false,
    "ExecuteTime": {
     "end_time": "2024-04-08T06:57:05.910071800Z",
     "start_time": "2024-04-08T06:57:05.894536Z"
    }
   },
   "id": "cdf368a3677e5594"
  },
  {
   "cell_type": "code",
   "execution_count": 18,
   "outputs": [],
   "source": [
    "import pickle\n",
    "\n",
    "with open('models/lin_reg.bin', 'wb') as f_out:\n",
    "    pickle.dump((dv, lr), f_out)"
   ],
   "metadata": {
    "collapsed": false,
    "ExecuteTime": {
     "end_time": "2024-04-08T06:57:18.633197500Z",
     "start_time": "2024-04-08T06:57:18.617528600Z"
    }
   },
   "id": "73d92ea7ada36cc6"
  },
  {
   "cell_type": "code",
   "execution_count": 19,
   "outputs": [],
   "source": [
    "# Save in the format needed by homework #4\n",
    "with open('models/model.bin', 'wb') as f_out:\n",
    "    pickle.dump((dv, lr), f_out)"
   ],
   "metadata": {
    "collapsed": false,
    "ExecuteTime": {
     "end_time": "2024-04-08T09:25:21.351153500Z",
     "start_time": "2024-04-08T09:25:21.313375600Z"
    }
   },
   "id": "55d1a0b7683e575f"
  }
 ],
 "metadata": {
  "kernelspec": {
   "display_name": "Python 3",
   "language": "python",
   "name": "python3"
  },
  "language_info": {
   "codemirror_mode": {
    "name": "ipython",
    "version": 2
   },
   "file_extension": ".py",
   "mimetype": "text/x-python",
   "name": "python",
   "nbconvert_exporter": "python",
   "pygments_lexer": "ipython2",
   "version": "2.7.6"
  }
 },
 "nbformat": 4,
 "nbformat_minor": 5
}
